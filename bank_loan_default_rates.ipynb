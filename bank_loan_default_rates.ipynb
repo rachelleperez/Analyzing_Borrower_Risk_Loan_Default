{
 "cells": [
  {
   "cell_type": "markdown",
   "metadata": {},
   "source": [
    "## Analyzing borrowers’ risk of defaulting\n",
    "\n",
    "Your project is to prepare a report for a bank’s loan division. You’ll need to find out if a **customer’s marital status and number of children** has an impact on whether they will default on a loan. The bank already has some data on customers’ credit worthiness.\n",
    "\n",
    "Your report will be considered when building a **credit scoring** of a potential customer. A ** credit scoring ** is used to evaluate the ability of a potential borrower to repay their loan."
   ]
  },
  {
   "cell_type": "markdown",
   "metadata": {},
   "source": [
    "Description of the data\n",
    "* children: the number of children in the family\n",
    "* days_employed: how long the customer has been working\n",
    "* dob_years: the customer’s age\n",
    "* education: the customer’s education level\n",
    "* education_id: identifier for the customer’s education\n",
    "* family_status: the customer’s marital status\n",
    "* family_status_id: identifier for the customer’s marital status\n",
    "* gender: the customer’s gender\n",
    "* income_type: the customer’s income type\n",
    "* debt: whether the customer has ever defaulted on a loan\n",
    "* total_income: monthly income\n",
    "* purpose: reason for taking out a loan\n"
   ]
  },
  {
   "cell_type": "code",
   "execution_count": 1,
   "metadata": {},
   "outputs": [],
   "source": [
    "import pandas as pd\n",
    "import numpy as np\n",
    "import seaborn as sns"
   ]
  },
  {
   "cell_type": "markdown",
   "metadata": {},
   "source": [
    "### Step 1. Open the data file and have a look at the general information. "
   ]
  },
  {
   "cell_type": "code",
   "execution_count": 2,
   "metadata": {
    "scrolled": true
   },
   "outputs": [
    {
     "data": {
      "text/html": [
       "<div>\n",
       "<style scoped>\n",
       "    .dataframe tbody tr th:only-of-type {\n",
       "        vertical-align: middle;\n",
       "    }\n",
       "\n",
       "    .dataframe tbody tr th {\n",
       "        vertical-align: top;\n",
       "    }\n",
       "\n",
       "    .dataframe thead th {\n",
       "        text-align: right;\n",
       "    }\n",
       "</style>\n",
       "<table border=\"1\" class=\"dataframe\">\n",
       "  <thead>\n",
       "    <tr style=\"text-align: right;\">\n",
       "      <th></th>\n",
       "      <th>children</th>\n",
       "      <th>days_employed</th>\n",
       "      <th>dob_years</th>\n",
       "      <th>education</th>\n",
       "      <th>education_id</th>\n",
       "      <th>family_status</th>\n",
       "      <th>family_status_id</th>\n",
       "      <th>gender</th>\n",
       "      <th>income_type</th>\n",
       "      <th>debt</th>\n",
       "      <th>total_income</th>\n",
       "      <th>purpose</th>\n",
       "    </tr>\n",
       "  </thead>\n",
       "  <tbody>\n",
       "    <tr>\n",
       "      <td>0</td>\n",
       "      <td>1</td>\n",
       "      <td>-8437.673028</td>\n",
       "      <td>42</td>\n",
       "      <td>bachelor's degree</td>\n",
       "      <td>0</td>\n",
       "      <td>married</td>\n",
       "      <td>0</td>\n",
       "      <td>F</td>\n",
       "      <td>employee</td>\n",
       "      <td>0</td>\n",
       "      <td>40620.102</td>\n",
       "      <td>purchase of the house</td>\n",
       "    </tr>\n",
       "    <tr>\n",
       "      <td>1</td>\n",
       "      <td>1</td>\n",
       "      <td>-4024.803754</td>\n",
       "      <td>36</td>\n",
       "      <td>secondary education</td>\n",
       "      <td>1</td>\n",
       "      <td>married</td>\n",
       "      <td>0</td>\n",
       "      <td>F</td>\n",
       "      <td>employee</td>\n",
       "      <td>0</td>\n",
       "      <td>17932.802</td>\n",
       "      <td>car purchase</td>\n",
       "    </tr>\n",
       "    <tr>\n",
       "      <td>2</td>\n",
       "      <td>0</td>\n",
       "      <td>-5623.422610</td>\n",
       "      <td>33</td>\n",
       "      <td>Secondary Education</td>\n",
       "      <td>1</td>\n",
       "      <td>married</td>\n",
       "      <td>0</td>\n",
       "      <td>M</td>\n",
       "      <td>employee</td>\n",
       "      <td>0</td>\n",
       "      <td>23341.752</td>\n",
       "      <td>purchase of the house</td>\n",
       "    </tr>\n",
       "    <tr>\n",
       "      <td>3</td>\n",
       "      <td>3</td>\n",
       "      <td>-4124.747207</td>\n",
       "      <td>32</td>\n",
       "      <td>secondary education</td>\n",
       "      <td>1</td>\n",
       "      <td>married</td>\n",
       "      <td>0</td>\n",
       "      <td>M</td>\n",
       "      <td>employee</td>\n",
       "      <td>0</td>\n",
       "      <td>42820.568</td>\n",
       "      <td>supplementary education</td>\n",
       "    </tr>\n",
       "    <tr>\n",
       "      <td>4</td>\n",
       "      <td>0</td>\n",
       "      <td>340266.072000</td>\n",
       "      <td>53</td>\n",
       "      <td>secondary education</td>\n",
       "      <td>1</td>\n",
       "      <td>civil partnership</td>\n",
       "      <td>1</td>\n",
       "      <td>F</td>\n",
       "      <td>retiree</td>\n",
       "      <td>0</td>\n",
       "      <td>25378.572</td>\n",
       "      <td>to have a wedding</td>\n",
       "    </tr>\n",
       "  </tbody>\n",
       "</table>\n",
       "</div>"
      ],
      "text/plain": [
       "   children  days_employed  dob_years            education  education_id  \\\n",
       "0         1   -8437.673028         42    bachelor's degree             0   \n",
       "1         1   -4024.803754         36  secondary education             1   \n",
       "2         0   -5623.422610         33  Secondary Education             1   \n",
       "3         3   -4124.747207         32  secondary education             1   \n",
       "4         0  340266.072000         53  secondary education             1   \n",
       "\n",
       "       family_status  family_status_id gender income_type  debt  total_income  \\\n",
       "0            married                 0      F    employee     0     40620.102   \n",
       "1            married                 0      F    employee     0     17932.802   \n",
       "2            married                 0      M    employee     0     23341.752   \n",
       "3            married                 0      M    employee     0     42820.568   \n",
       "4  civil partnership                 1      F     retiree     0     25378.572   \n",
       "\n",
       "                   purpose  \n",
       "0    purchase of the house  \n",
       "1             car purchase  \n",
       "2    purchase of the house  \n",
       "3  supplementary education  \n",
       "4        to have a wedding  "
      ]
     },
     "execution_count": 2,
     "metadata": {},
     "output_type": "execute_result"
    }
   ],
   "source": [
    "df = pd.read_csv('data.csv')\n",
    "df.head()"
   ]
  },
  {
   "cell_type": "code",
   "execution_count": 3,
   "metadata": {
    "scrolled": true
   },
   "outputs": [
    {
     "name": "stdout",
     "output_type": "stream",
     "text": [
      "<class 'pandas.core.frame.DataFrame'>\n",
      "RangeIndex: 21525 entries, 0 to 21524\n",
      "Data columns (total 12 columns):\n",
      "children            21525 non-null int64\n",
      "days_employed       19351 non-null float64\n",
      "dob_years           21525 non-null int64\n",
      "education           21525 non-null object\n",
      "education_id        21525 non-null int64\n",
      "family_status       21525 non-null object\n",
      "family_status_id    21525 non-null int64\n",
      "gender              21525 non-null object\n",
      "income_type         21525 non-null object\n",
      "debt                21525 non-null int64\n",
      "total_income        19351 non-null float64\n",
      "purpose             21525 non-null object\n",
      "dtypes: float64(2), int64(5), object(5)\n",
      "memory usage: 2.0+ MB\n"
     ]
    }
   ],
   "source": [
    "df.info()"
   ]
  },
  {
   "cell_type": "code",
   "execution_count": 4,
   "metadata": {},
   "outputs": [
    {
     "data": {
      "text/plain": [
       "21525"
      ]
     },
     "execution_count": 4,
     "metadata": {},
     "output_type": "execute_result"
    }
   ],
   "source": [
    "original_size = len(df)\n",
    "original_size"
   ]
  },
  {
   "cell_type": "markdown",
   "metadata": {},
   "source": [
    "Notes (Quick Glance)\n",
    "* expected data types\n",
    "* two columns with nulls: total income and days employed"
   ]
  },
  {
   "cell_type": "code",
   "execution_count": 5,
   "metadata": {
    "scrolled": false
   },
   "outputs": [
    {
     "data": {
      "text/plain": [
       " 0     14149\n",
       " 1      4818\n",
       " 2      2055\n",
       " 3       330\n",
       " 20       76\n",
       "-1        47\n",
       " 4        41\n",
       " 5         9\n",
       "Name: children, dtype: int64"
      ]
     },
     "execution_count": 5,
     "metadata": {},
     "output_type": "execute_result"
    }
   ],
   "source": [
    "df['children'].value_counts()"
   ]
  },
  {
   "cell_type": "markdown",
   "metadata": {},
   "source": [
    "**CHILDREN**\n",
    "\n",
    "* If number of children used, what does -1 mean? Lost a child?\n",
    "* We should reasonably assume 20 children is not realistic and most likely in error, especially considering the big gap from 5"
   ]
  },
  {
   "cell_type": "code",
   "execution_count": 6,
   "metadata": {
    "scrolled": true
   },
   "outputs": [
    {
     "data": {
      "text/plain": [
       "-438.291850       1\n",
       "-162.794078       1\n",
       "-327.399826       1\n",
       "-926.370096       1\n",
       "-3076.640827      1\n",
       "                 ..\n",
       "-9148.749198      1\n",
       " 335188.686800    1\n",
       "-1777.966556      1\n",
       " 366436.538600    1\n",
       "-259.798468       1\n",
       "Name: days_employed, Length: 19351, dtype: int64"
      ]
     },
     "execution_count": 6,
     "metadata": {},
     "output_type": "execute_result"
    }
   ],
   "source": [
    "df['days_employed'].value_counts()"
   ]
  },
  {
   "cell_type": "code",
   "execution_count": 7,
   "metadata": {
    "scrolled": true
   },
   "outputs": [
    {
     "data": {
      "text/plain": [
       "-18388.9499"
      ]
     },
     "execution_count": 7,
     "metadata": {},
     "output_type": "execute_result"
    }
   ],
   "source": [
    "df['days_employed'].min()"
   ]
  },
  {
   "cell_type": "code",
   "execution_count": 8,
   "metadata": {
    "scrolled": true
   },
   "outputs": [
    {
     "data": {
      "text/plain": [
       "401755.4005"
      ]
     },
     "execution_count": 8,
     "metadata": {},
     "output_type": "execute_result"
    }
   ],
   "source": [
    "df['days_employed'].max()"
   ]
  },
  {
   "cell_type": "code",
   "execution_count": 9,
   "metadata": {},
   "outputs": [
    {
     "data": {
      "text/plain": [
       "-1203.3695289999998"
      ]
     },
     "execution_count": 9,
     "metadata": {},
     "output_type": "execute_result"
    }
   ],
   "source": [
    "df['days_employed'].median()"
   ]
  },
  {
   "cell_type": "code",
   "execution_count": 10,
   "metadata": {},
   "outputs": [
    {
     "data": {
      "text/plain": [
       "2174"
      ]
     },
     "execution_count": 10,
     "metadata": {},
     "output_type": "execute_result"
    }
   ],
   "source": [
    "#How many nulls in days_employed?\n",
    "len(df[df['days_employed'].isnull()])"
   ]
  },
  {
   "cell_type": "code",
   "execution_count": 11,
   "metadata": {},
   "outputs": [
    {
     "data": {
      "text/plain": [
       "0.10099883855981417"
      ]
     },
     "execution_count": 11,
     "metadata": {},
     "output_type": "execute_result"
    }
   ],
   "source": [
    "# % of nulls days_employed\n",
    "len(df[df['days_employed'].isnull()]) / len(df)"
   ]
  },
  {
   "cell_type": "markdown",
   "metadata": {},
   "source": [
    "**DAYS EMPLOYED**\n",
    "\n",
    "* What is the format here?\n",
    "* 10% null"
   ]
  },
  {
   "cell_type": "code",
   "execution_count": 12,
   "metadata": {
    "scrolled": true
   },
   "outputs": [
    {
     "data": {
      "text/plain": [
       "35    617\n",
       "40    609\n",
       "41    607\n",
       "34    603\n",
       "38    598\n",
       "Name: dob_years, dtype: int64"
      ]
     },
     "execution_count": 12,
     "metadata": {},
     "output_type": "execute_result"
    }
   ],
   "source": [
    "df['dob_years'].value_counts().head()"
   ]
  },
  {
   "cell_type": "code",
   "execution_count": 13,
   "metadata": {},
   "outputs": [
    {
     "data": {
      "text/plain": [
       "0"
      ]
     },
     "execution_count": 13,
     "metadata": {},
     "output_type": "execute_result"
    }
   ],
   "source": [
    "df['dob_years'].min()"
   ]
  },
  {
   "cell_type": "markdown",
   "metadata": {},
   "source": [
    "**DOB_YEARS**\n",
    "\n",
    "* is this age? rename column\n",
    "* consider classification\n",
    "* age of 0"
   ]
  },
  {
   "cell_type": "code",
   "execution_count": 14,
   "metadata": {
    "scrolled": false
   },
   "outputs": [
    {
     "data": {
      "text/plain": [
       "secondary education    13750\n",
       "bachelor's degree       4718\n",
       "SECONDARY EDUCATION      772\n",
       "Secondary Education      711\n",
       "some college             668\n",
       "BACHELOR'S DEGREE        274\n",
       "Bachelor's Degree        268\n",
       "primary education        250\n",
       "Some College              47\n",
       "SOME COLLEGE              29\n",
       "PRIMARY EDUCATION         17\n",
       "Primary Education         15\n",
       "graduate degree            4\n",
       "Graduate Degree            1\n",
       "GRADUATE DEGREE            1\n",
       "Name: education, dtype: int64"
      ]
     },
     "execution_count": 14,
     "metadata": {},
     "output_type": "execute_result"
    }
   ],
   "source": [
    "df['education'].value_counts()"
   ]
  },
  {
   "cell_type": "markdown",
   "metadata": {},
   "source": [
    "**EDUCATION**\n",
    "\n",
    "* Many dupes due to casing. fortunately, name characters!"
   ]
  },
  {
   "cell_type": "code",
   "execution_count": 15,
   "metadata": {
    "scrolled": true
   },
   "outputs": [
    {
     "data": {
      "text/plain": [
       "1    15233\n",
       "0     5260\n",
       "2      744\n",
       "3      282\n",
       "4        6\n",
       "Name: education_id, dtype: int64"
      ]
     },
     "execution_count": 15,
     "metadata": {},
     "output_type": "execute_result"
    }
   ],
   "source": [
    "df['education_id'].value_counts()"
   ]
  },
  {
   "cell_type": "markdown",
   "metadata": {},
   "source": [
    "**EDUCATION_ID**\n",
    "\n",
    "* 5 ids match 5 education types.\n",
    "* Are they a match? eg - are all 1s the same?"
   ]
  },
  {
   "cell_type": "code",
   "execution_count": 16,
   "metadata": {},
   "outputs": [
    {
     "data": {
      "text/plain": [
       "married              12380\n",
       "civil partnership     4177\n",
       "unmarried             2813\n",
       "divorced              1195\n",
       "widow / widower        960\n",
       "Name: family_status, dtype: int64"
      ]
     },
     "execution_count": 16,
     "metadata": {},
     "output_type": "execute_result"
    }
   ],
   "source": [
    "df['family_status'].value_counts()"
   ]
  },
  {
   "cell_type": "code",
   "execution_count": 17,
   "metadata": {
    "scrolled": true
   },
   "outputs": [
    {
     "data": {
      "text/plain": [
       "0    12380\n",
       "1     4177\n",
       "4     2813\n",
       "3     1195\n",
       "2      960\n",
       "Name: family_status_id, dtype: int64"
      ]
     },
     "execution_count": 17,
     "metadata": {},
     "output_type": "execute_result"
    }
   ],
   "source": [
    "df['family_status_id'].value_counts()"
   ]
  },
  {
   "cell_type": "markdown",
   "metadata": {},
   "source": [
    "**FAMILY STATUS**\n",
    "\n",
    "* Count match between family status and id"
   ]
  },
  {
   "cell_type": "code",
   "execution_count": 18,
   "metadata": {},
   "outputs": [
    {
     "data": {
      "text/plain": [
       "F      14236\n",
       "M       7288\n",
       "XNA        1\n",
       "Name: gender, dtype: int64"
      ]
     },
     "execution_count": 18,
     "metadata": {},
     "output_type": "execute_result"
    }
   ],
   "source": [
    "df['gender'].value_counts()"
   ]
  },
  {
   "cell_type": "markdown",
   "metadata": {},
   "source": [
    "**GENDER**\n",
    "\n",
    "* only 1 XNA - not material. \n",
    "* Is XNA this the same as Null? does it have a particular connotation?"
   ]
  },
  {
   "cell_type": "code",
   "execution_count": 19,
   "metadata": {
    "scrolled": true
   },
   "outputs": [
    {
     "data": {
      "text/plain": [
       "employee                       11119\n",
       "business                        5085\n",
       "retiree                         3856\n",
       "civil servant                   1459\n",
       "entrepreneur                       2\n",
       "unemployed                         2\n",
       "student                            1\n",
       "paternity / maternity leave        1\n",
       "Name: income_type, dtype: int64"
      ]
     },
     "execution_count": 19,
     "metadata": {},
     "output_type": "execute_result"
    }
   ],
   "source": [
    "df['income_type'].value_counts()"
   ]
  },
  {
   "cell_type": "code",
   "execution_count": 20,
   "metadata": {
    "scrolled": false
   },
   "outputs": [
    {
     "data": {
      "text/plain": [
       "0    19784\n",
       "1     1741\n",
       "Name: debt, dtype: int64"
      ]
     },
     "execution_count": 20,
     "metadata": {},
     "output_type": "execute_result"
    }
   ],
   "source": [
    "df['debt'].value_counts()"
   ]
  },
  {
   "cell_type": "markdown",
   "metadata": {},
   "source": [
    "**DEBT**\n",
    "\n",
    "*rename column to defaulted as 1 equal yes"
   ]
  },
  {
   "cell_type": "code",
   "execution_count": 21,
   "metadata": {
    "scrolled": true
   },
   "outputs": [
    {
     "data": {
      "text/plain": [
       "31791.384    2\n",
       "42413.096    2\n",
       "17312.717    2\n",
       "20226.282    1\n",
       "26935.722    1\n",
       "            ..\n",
       "23463.319    1\n",
       "8015.655     1\n",
       "25198.165    1\n",
       "13809.189    1\n",
       "9591.824     1\n",
       "Name: total_income, Length: 19348, dtype: int64"
      ]
     },
     "execution_count": 21,
     "metadata": {},
     "output_type": "execute_result"
    }
   ],
   "source": [
    "df['total_income'].value_counts()"
   ]
  },
  {
   "cell_type": "code",
   "execution_count": 22,
   "metadata": {
    "scrolled": true
   },
   "outputs": [
    {
     "data": {
      "text/plain": [
       "3306.762"
      ]
     },
     "execution_count": 22,
     "metadata": {},
     "output_type": "execute_result"
    }
   ],
   "source": [
    "df['total_income'].min()"
   ]
  },
  {
   "cell_type": "code",
   "execution_count": 23,
   "metadata": {},
   "outputs": [
    {
     "data": {
      "text/plain": [
       "362496.645"
      ]
     },
     "execution_count": 23,
     "metadata": {},
     "output_type": "execute_result"
    }
   ],
   "source": [
    "df['total_income'].max()"
   ]
  },
  {
   "cell_type": "code",
   "execution_count": 24,
   "metadata": {},
   "outputs": [
    {
     "data": {
      "text/plain": [
       "2174"
      ]
     },
     "execution_count": 24,
     "metadata": {},
     "output_type": "execute_result"
    }
   ],
   "source": [
    "#How many nulls in total income?\n",
    "len(df[df['total_income'].isnull()])"
   ]
  },
  {
   "cell_type": "code",
   "execution_count": 25,
   "metadata": {},
   "outputs": [
    {
     "data": {
      "text/plain": [
       "0.10099883855981417"
      ]
     },
     "execution_count": 25,
     "metadata": {},
     "output_type": "execute_result"
    }
   ],
   "source": [
    "# % of nulls total income\n",
    "len(df[df['total_income'].isnull()]) / len(df)"
   ]
  },
  {
   "cell_type": "markdown",
   "metadata": {},
   "source": [
    "**TOTAL INCOME**\n",
    "* What unit? Are these expected numbers?\n",
    "* 10% NULLS"
   ]
  },
  {
   "cell_type": "code",
   "execution_count": 26,
   "metadata": {
    "scrolled": true
   },
   "outputs": [
    {
     "data": {
      "text/plain": [
       "wedding ceremony                            797\n",
       "having a wedding                            777\n",
       "to have a wedding                           774\n",
       "real estate transactions                    676\n",
       "buy commercial real estate                  664\n",
       "buying property for renting out             653\n",
       "housing transactions                        653\n",
       "transactions with commercial real estate    651\n",
       "housing                                     647\n",
       "purchase of the house                       647\n",
       "purchase of the house for my family         641\n",
       "construction of own property                635\n",
       "property                                    634\n",
       "transactions with my real estate            630\n",
       "building a real estate                      626\n",
       "buy real estate                             624\n",
       "purchase of my own house                    620\n",
       "building a property                         620\n",
       "housing renovation                          612\n",
       "buy residential real estate                 607\n",
       "buying my own car                           505\n",
       "going to university                         496\n",
       "car                                         495\n",
       "second-hand car purchase                    489\n",
       "to own a car                                480\n",
       "buying a second-hand car                    479\n",
       "cars                                        478\n",
       "to buy a car                                472\n",
       "supplementary education                     462\n",
       "car purchase                                462\n",
       "purchase of a car                           455\n",
       "university education                        453\n",
       "education                                   447\n",
       "to get a supplementary education            447\n",
       "getting an education                        443\n",
       "profile education                           436\n",
       "getting higher education                    426\n",
       "to become educated                          412\n",
       "Name: purpose, dtype: int64"
      ]
     },
     "execution_count": 26,
     "metadata": {},
     "output_type": "execute_result"
    }
   ],
   "source": [
    "df['purpose'].value_counts()"
   ]
  },
  {
   "cell_type": "markdown",
   "metadata": {},
   "source": [
    "**PURPOSE**\n",
    "* a lot of dupes here. Possible to better classify but not easy pattern \n",
    "* 4 buckets: wedding, education/university/educated, car/cars, property/house/real estate/housing\n",
    "* all lower case"
   ]
  },
  {
   "cell_type": "code",
   "execution_count": 27,
   "metadata": {},
   "outputs": [],
   "source": [
    "#column renamings\n",
    "df.rename(columns={\"debt\": \"defaulted\", \"dob_years\": \"age\", \"purpose\": \"loan_purpose\"}, inplace=True)"
   ]
  },
  {
   "cell_type": "code",
   "execution_count": 28,
   "metadata": {
    "scrolled": false
   },
   "outputs": [
    {
     "name": "stdout",
     "output_type": "stream",
     "text": [
      "<class 'pandas.core.frame.DataFrame'>\n",
      "RangeIndex: 21525 entries, 0 to 21524\n",
      "Data columns (total 12 columns):\n",
      "children            21525 non-null int64\n",
      "days_employed       19351 non-null float64\n",
      "age                 21525 non-null int64\n",
      "education           21525 non-null object\n",
      "education_id        21525 non-null int64\n",
      "family_status       21525 non-null object\n",
      "family_status_id    21525 non-null int64\n",
      "gender              21525 non-null object\n",
      "income_type         21525 non-null object\n",
      "defaulted           21525 non-null int64\n",
      "total_income        19351 non-null float64\n",
      "loan_purpose        21525 non-null object\n",
      "dtypes: float64(2), int64(5), object(5)\n",
      "memory usage: 2.0+ MB\n"
     ]
    }
   ],
   "source": [
    "df.info()"
   ]
  },
  {
   "cell_type": "markdown",
   "metadata": {},
   "source": [
    "**BENCHMARK DEFAULT RATE**"
   ]
  },
  {
   "cell_type": "code",
   "execution_count": 29,
   "metadata": {},
   "outputs": [
    {
     "data": {
      "text/plain": [
       "0.08088269454123112"
      ]
     },
     "execution_count": 29,
     "metadata": {},
     "output_type": "execute_result"
    }
   ],
   "source": [
    "len(df.loc[df['defaulted']==1]) / len(df)"
   ]
  },
  {
   "cell_type": "markdown",
   "metadata": {},
   "source": [
    "The overall loan default rate is 8%"
   ]
  },
  {
   "cell_type": "markdown",
   "metadata": {},
   "source": [
    "### Conclusion"
   ]
  },
  {
   "cell_type": "markdown",
   "metadata": {},
   "source": [
    "For the sake of understand marital status and number of children against the chance a person will default: \n",
    "* Marital status is straight forward but number of children has a strange value of -1. Does that mean customers doesn't want or can't have children? \n",
    "* There is no way to check if there are duplicate rows vs there being multiple customers that share the same characteristics so I'll assume each row should be counted as a customer"
   ]
  },
  {
   "cell_type": "markdown",
   "metadata": {},
   "source": [
    "### Step 2. Data preprocessing"
   ]
  },
  {
   "cell_type": "markdown",
   "metadata": {},
   "source": [
    "### Processing missing values"
   ]
  },
  {
   "cell_type": "code",
   "execution_count": 30,
   "metadata": {
    "scrolled": true
   },
   "outputs": [
    {
     "data": {
      "text/plain": [
       "2174"
      ]
     },
     "execution_count": 30,
     "metadata": {},
     "output_type": "execute_result"
    }
   ],
   "source": [
    "# TOTAL INCOME\n",
    "# Let's understand if there is an explanation for total income\n",
    "null_income = df.loc[df['total_income'].isna()]\n",
    "len(null_income)"
   ]
  },
  {
   "cell_type": "code",
   "execution_count": 31,
   "metadata": {
    "scrolled": true
   },
   "outputs": [
    {
     "data": {
      "text/plain": [
       "43.0"
      ]
     },
     "execution_count": 31,
     "metadata": {},
     "output_type": "execute_result"
    }
   ],
   "source": [
    "null_income['age'].median()"
   ]
  },
  {
   "cell_type": "code",
   "execution_count": 32,
   "metadata": {},
   "outputs": [],
   "source": [
    "#assumption that perhaps children were the ones with 0 income was wrong\n",
    "# let's check if there is a connection with employment"
   ]
  },
  {
   "cell_type": "code",
   "execution_count": 33,
   "metadata": {},
   "outputs": [
    {
     "data": {
      "text/plain": [
       "Series([], Name: days_employed, dtype: int64)"
      ]
     },
     "execution_count": 33,
     "metadata": {},
     "output_type": "execute_result"
    }
   ],
   "source": [
    "null_income['days_employed'].value_counts()"
   ]
  },
  {
   "cell_type": "code",
   "execution_count": 34,
   "metadata": {},
   "outputs": [
    {
     "data": {
      "text/plain": [
       "True"
      ]
     },
     "execution_count": 34,
     "metadata": {},
     "output_type": "execute_result"
    }
   ],
   "source": [
    "#it seems all of the customers without total income have days employed empty too. \n",
    "# Is there an exact match between days employes and total income? \n",
    "len(null_income) == len(df.loc[df['days_employed'].isna()])"
   ]
  },
  {
   "cell_type": "code",
   "execution_count": 35,
   "metadata": {},
   "outputs": [],
   "source": [
    "# This means the reason why total income is null is because the person has not worked and/or we dont have employment info"
   ]
  },
  {
   "cell_type": "code",
   "execution_count": 36,
   "metadata": {
    "scrolled": false
   },
   "outputs": [
    {
     "data": {
      "text/plain": [
       "secondary education    1408\n",
       "bachelor's degree       496\n",
       "SECONDARY EDUCATION      67\n",
       "Secondary Education      65\n",
       "some college             55\n",
       "Bachelor's Degree        25\n",
       "BACHELOR'S DEGREE        23\n",
       "primary education        19\n",
       "Some College              7\n",
       "SOME COLLEGE              7\n",
       "PRIMARY EDUCATION         1\n",
       "Primary Education         1\n",
       "Name: education, dtype: int64"
      ]
     },
     "execution_count": 36,
     "metadata": {},
     "output_type": "execute_result"
    }
   ],
   "source": [
    "null_income['education'].value_counts()"
   ]
  },
  {
   "cell_type": "code",
   "execution_count": 37,
   "metadata": {},
   "outputs": [],
   "source": [
    "# the education level spans. there is no correlation"
   ]
  },
  {
   "cell_type": "code",
   "execution_count": 38,
   "metadata": {},
   "outputs": [
    {
     "data": {
      "text/plain": [
       " 0     1439\n",
       " 1      475\n",
       " 2      204\n",
       " 3       36\n",
       " 20       9\n",
       " 4        7\n",
       "-1        3\n",
       " 5        1\n",
       "Name: children, dtype: int64"
      ]
     },
     "execution_count": 38,
     "metadata": {},
     "output_type": "execute_result"
    }
   ],
   "source": [
    "null_income['children'].value_counts()"
   ]
  },
  {
   "cell_type": "markdown",
   "metadata": {},
   "source": [
    "no correlation with total imcome being empty and age."
   ]
  },
  {
   "cell_type": "code",
   "execution_count": 39,
   "metadata": {
    "scrolled": true
   },
   "outputs": [
    {
     "data": {
      "text/plain": [
       "married              1237\n",
       "civil partnership     442\n",
       "unmarried             288\n",
       "divorced              112\n",
       "widow / widower        95\n",
       "Name: family_status, dtype: int64"
      ]
     },
     "execution_count": 39,
     "metadata": {},
     "output_type": "execute_result"
    }
   ],
   "source": [
    "null_income['family_status'].value_counts()"
   ]
  },
  {
   "cell_type": "markdown",
   "metadata": {},
   "source": [
    "customers with missing values for income have a variety of marital status. No correlation"
   ]
  },
  {
   "cell_type": "code",
   "execution_count": 40,
   "metadata": {
    "scrolled": false
   },
   "outputs": [
    {
     "data": {
      "text/plain": [
       "0    2004\n",
       "1     170\n",
       "Name: defaulted, dtype: int64"
      ]
     },
     "execution_count": 40,
     "metadata": {},
     "output_type": "execute_result"
    }
   ],
   "source": [
    "null_income['defaulted'].value_counts()"
   ]
  },
  {
   "cell_type": "code",
   "execution_count": 41,
   "metadata": {},
   "outputs": [
    {
     "data": {
      "text/plain": [
       "0.078196872125115"
      ]
     },
     "execution_count": 41,
     "metadata": {},
     "output_type": "execute_result"
    }
   ],
   "source": [
    "170/(2004+170)"
   ]
  },
  {
   "cell_type": "markdown",
   "metadata": {},
   "source": [
    "this is the most surprising part. I expected if total income == nan meant 0 income we should have all defaults but as over 90% have not defaulted, perhaps we just don't have income information. As there isn't indication that having this field null correlates with a particular value in another column, we will go ahead and drop nulls."
   ]
  },
  {
   "cell_type": "code",
   "execution_count": 42,
   "metadata": {},
   "outputs": [
    {
     "data": {
      "text/plain": [
       "children               0\n",
       "days_employed       2174\n",
       "age                    0\n",
       "education              0\n",
       "education_id           0\n",
       "family_status          0\n",
       "family_status_id       0\n",
       "gender                 0\n",
       "income_type            0\n",
       "defaulted              0\n",
       "total_income        2174\n",
       "loan_purpose           0\n",
       "dtype: int64"
      ]
     },
     "execution_count": 42,
     "metadata": {},
     "output_type": "execute_result"
    }
   ],
   "source": [
    "df.isnull().sum()"
   ]
  },
  {
   "cell_type": "code",
   "execution_count": 43,
   "metadata": {},
   "outputs": [],
   "source": [
    "df = df.dropna().reset_index(drop=True)"
   ]
  },
  {
   "cell_type": "code",
   "execution_count": 44,
   "metadata": {},
   "outputs": [
    {
     "data": {
      "text/plain": [
       "children            0\n",
       "days_employed       0\n",
       "age                 0\n",
       "education           0\n",
       "education_id        0\n",
       "family_status       0\n",
       "family_status_id    0\n",
       "gender              0\n",
       "income_type         0\n",
       "defaulted           0\n",
       "total_income        0\n",
       "loan_purpose        0\n",
       "dtype: int64"
      ]
     },
     "execution_count": 44,
     "metadata": {},
     "output_type": "execute_result"
    }
   ],
   "source": [
    "# Are nulls removed?\n",
    "df.isnull().sum()"
   ]
  },
  {
   "cell_type": "code",
   "execution_count": 45,
   "metadata": {},
   "outputs": [],
   "source": [
    "# CHILDREN 20\n",
    "# As 20 children is realistic, we should assume this is wrong and this data is missing. \n",
    "\n",
    "children_20 = df.loc[df['children']==20]"
   ]
  },
  {
   "cell_type": "code",
   "execution_count": 46,
   "metadata": {},
   "outputs": [
    {
     "data": {
      "text/plain": [
       "67"
      ]
     },
     "execution_count": 46,
     "metadata": {},
     "output_type": "execute_result"
    }
   ],
   "source": [
    "len(children_20)"
   ]
  },
  {
   "cell_type": "code",
   "execution_count": 47,
   "metadata": {
    "scrolled": true
   },
   "outputs": [
    {
     "data": {
      "text/plain": [
       "married              46\n",
       "civil partnership    11\n",
       "unmarried             6\n",
       "widow / widower       3\n",
       "divorced              1\n",
       "Name: family_status, dtype: int64"
      ]
     },
     "execution_count": 47,
     "metadata": {},
     "output_type": "execute_result"
    }
   ],
   "source": [
    "# is there a way to know if there are more likely 0? Perhaps are they all from really young ages or certain marital status?\n",
    "children_20['family_status'].value_counts()"
   ]
  },
  {
   "cell_type": "code",
   "execution_count": 48,
   "metadata": {
    "scrolled": true
   },
   "outputs": [
    {
     "data": {
      "text/plain": [
       "37    4\n",
       "40    4\n",
       "56    4\n",
       "30    3\n",
       "34    3\n",
       "Name: age, dtype: int64"
      ]
     },
     "execution_count": 48,
     "metadata": {},
     "output_type": "execute_result"
    }
   ],
   "source": [
    "children_20['age'].value_counts().head()"
   ]
  },
  {
   "cell_type": "code",
   "execution_count": 49,
   "metadata": {
    "scrolled": true
   },
   "outputs": [
    {
     "data": {
      "text/plain": [
       "0    59\n",
       "1     8\n",
       "Name: defaulted, dtype: int64"
      ]
     },
     "execution_count": 49,
     "metadata": {},
     "output_type": "execute_result"
    }
   ],
   "source": [
    "children_20['defaulted'].value_counts()"
   ]
  },
  {
   "cell_type": "code",
   "execution_count": 50,
   "metadata": {},
   "outputs": [
    {
     "data": {
      "text/plain": [
       "0.11764705882352941"
      ]
     },
     "execution_count": 50,
     "metadata": {},
     "output_type": "execute_result"
    }
   ],
   "source": [
    "#children_20 default rate\n",
    "8/68"
   ]
  },
  {
   "cell_type": "code",
   "execution_count": 51,
   "metadata": {
    "scrolled": true
   },
   "outputs": [
    {
     "data": {
      "text/plain": [
       "0.0034623533667510723"
      ]
     },
     "execution_count": 51,
     "metadata": {},
     "output_type": "execute_result"
    }
   ],
   "source": [
    "# What % data has children_20?\n",
    "len(children_20) / len(df)"
   ]
  },
  {
   "cell_type": "code",
   "execution_count": 52,
   "metadata": {},
   "outputs": [
    {
     "data": {
      "text/plain": [
       "0.002273784300552943"
      ]
     },
     "execution_count": 52,
     "metadata": {},
     "output_type": "execute_result"
    }
   ],
   "source": [
    "# What % of data has children -1?\n",
    "len(df.loc[df['children']==-1])/len(df)"
   ]
  },
  {
   "cell_type": "code",
   "execution_count": 53,
   "metadata": {},
   "outputs": [
    {
     "data": {
      "text/plain": [
       "0.0057361376673040155"
      ]
     },
     "execution_count": 53,
     "metadata": {},
     "output_type": "execute_result"
    }
   ],
   "source": [
    "#Total unknown children\n",
    "(len(df.loc[df['children']==-1])+len(children_20))/len(df)"
   ]
  },
  {
   "cell_type": "code",
   "execution_count": 54,
   "metadata": {},
   "outputs": [
    {
     "data": {
      "text/plain": [
       "0    43\n",
       "1     1\n",
       "Name: defaulted, dtype: int64"
      ]
     },
     "execution_count": 54,
     "metadata": {},
     "output_type": "execute_result"
    }
   ],
   "source": [
    "df.loc[df['children']==-1]['defaulted'].value_counts()"
   ]
  },
  {
   "cell_type": "code",
   "execution_count": 55,
   "metadata": {},
   "outputs": [
    {
     "data": {
      "text/plain": [
       "children\n",
       "-1       1\n",
       " 0     952\n",
       " 1     408\n",
       " 2     177\n",
       " 3      22\n",
       " 4       3\n",
       " 5       0\n",
       " 20      8\n",
       "Name: defaulted, dtype: int64"
      ]
     },
     "execution_count": 55,
     "metadata": {},
     "output_type": "execute_result"
    }
   ],
   "source": [
    "#number of defaults per number of children\n",
    "groupby = df.groupby('children')['defaulted'].sum()\n",
    "groupby"
   ]
  },
  {
   "cell_type": "code",
   "execution_count": 56,
   "metadata": {},
   "outputs": [
    {
     "data": {
      "text/plain": [
       "children\n",
       "-1     0.000052\n",
       " 0     0.049196\n",
       " 1     0.021084\n",
       " 2     0.009147\n",
       " 3     0.001137\n",
       " 4     0.000155\n",
       " 5     0.000000\n",
       " 20    0.000413\n",
       "Name: defaulted, dtype: float64"
      ]
     },
     "execution_count": 56,
     "metadata": {},
     "output_type": "execute_result"
    }
   ],
   "source": [
    "#default rate by # children\n",
    "groupby/len(df)"
   ]
  },
  {
   "cell_type": "markdown",
   "metadata": {},
   "source": [
    "Assumingly, this should have been 2 or 0 instead of 20. I checked some properties that may correlate with 0 children (age, education) and there was no correlation that lead me to believe it is 0. Finally, checking default rate across number of children. The default rate pattern for 20 doesn't match 0 at all and it is closer but not exactcly matching 2 so I will be just dropping it. \n",
    "\n",
    "Although I believe -1 most likely really means something as adding a negative sign is lot a likely error, I will be dropping it too as we were not informed what it meant "
   ]
  },
  {
   "cell_type": "code",
   "execution_count": 57,
   "metadata": {
    "scrolled": true
   },
   "outputs": [],
   "source": [
    "df = df.loc[df['children'] != -1]\n",
    "df = df.loc[df['children'] != 20]"
   ]
  },
  {
   "cell_type": "code",
   "execution_count": 58,
   "metadata": {
    "scrolled": false
   },
   "outputs": [
    {
     "data": {
      "text/plain": [
       "0    12710\n",
       "1     4343\n",
       "2     1851\n",
       "3      294\n",
       "4       34\n",
       "5        8\n",
       "Name: children, dtype: int64"
      ]
     },
     "execution_count": 58,
     "metadata": {},
     "output_type": "execute_result"
    }
   ],
   "source": [
    "df['children'].value_counts()"
   ]
  },
  {
   "cell_type": "code",
   "execution_count": 59,
   "metadata": {
    "scrolled": true
   },
   "outputs": [
    {
     "data": {
      "text/plain": [
       "F      12677\n",
       "M       6562\n",
       "XNA        1\n",
       "Name: gender, dtype: int64"
      ]
     },
     "execution_count": 59,
     "metadata": {},
     "output_type": "execute_result"
    }
   ],
   "source": [
    "#GENDEX XNA\n",
    "df['gender'].value_counts()"
   ]
  },
  {
   "cell_type": "code",
   "execution_count": 60,
   "metadata": {},
   "outputs": [],
   "source": [
    "df = df.loc[df['gender'] != 'XNA']"
   ]
  },
  {
   "cell_type": "code",
   "execution_count": 61,
   "metadata": {
    "scrolled": false
   },
   "outputs": [
    {
     "data": {
      "text/plain": [
       "F    12677\n",
       "M     6562\n",
       "Name: gender, dtype: int64"
      ]
     },
     "execution_count": 61,
     "metadata": {},
     "output_type": "execute_result"
    }
   ],
   "source": [
    "df['gender'].value_counts()"
   ]
  },
  {
   "cell_type": "code",
   "execution_count": 62,
   "metadata": {},
   "outputs": [
    {
     "data": {
      "text/plain": [
       "35    553\n",
       "41    544\n",
       "38    541\n",
       "40    537\n",
       "34    528\n",
       "42    528\n",
       "33    526\n",
       "39    522\n",
       "44    499\n",
       "29    493\n",
       "31    491\n",
       "48    490\n",
       "36    490\n",
       "37    478\n",
       "30    478\n",
       "32    469\n",
       "43    460\n",
       "50    459\n",
       "49    455\n",
       "27    454\n",
       "28    444\n",
       "45    444\n",
       "52    430\n",
       "56    429\n",
       "54    421\n",
       "46    421\n",
       "47    421\n",
       "53    414\n",
       "59    408\n",
       "58    405\n",
       "57    402\n",
       "51    396\n",
       "55    393\n",
       "26    371\n",
       "60    338\n",
       "25    334\n",
       "61    315\n",
       "62    313\n",
       "24    241\n",
       "63    239\n",
       "64    226\n",
       "23    216\n",
       "65    174\n",
       "22    166\n",
       "66    163\n",
       "67    151\n",
       "21     92\n",
       "68     90\n",
       "0      90\n",
       "69     78\n",
       "70     62\n",
       "71     53\n",
       "20     46\n",
       "72     31\n",
       "19     13\n",
       "73      7\n",
       "74      6\n",
       "75      1\n",
       "Name: age, dtype: int64"
      ]
     },
     "execution_count": 62,
     "metadata": {},
     "output_type": "execute_result"
    }
   ],
   "source": [
    "#AGE\n",
    "# dropping records with age 0\n",
    "df['age'].value_counts()"
   ]
  },
  {
   "cell_type": "code",
   "execution_count": 63,
   "metadata": {},
   "outputs": [],
   "source": [
    "df = df.loc[df['age'] != 0]"
   ]
  },
  {
   "cell_type": "code",
   "execution_count": 64,
   "metadata": {},
   "outputs": [
    {
     "data": {
      "text/plain": [
       "19149"
      ]
     },
     "execution_count": 64,
     "metadata": {},
     "output_type": "execute_result"
    }
   ],
   "source": [
    "#new number of records\n",
    "len(df)"
   ]
  },
  {
   "cell_type": "code",
   "execution_count": 65,
   "metadata": {},
   "outputs": [
    {
     "data": {
      "text/plain": [
       "0.11038327526132408"
      ]
     },
     "execution_count": 65,
     "metadata": {},
     "output_type": "execute_result"
    }
   ],
   "source": [
    "#How much of the data was dropped?\n",
    "1-(len(df)/original_size)"
   ]
  },
  {
   "cell_type": "markdown",
   "metadata": {},
   "source": [
    "### Conclusion"
   ]
  },
  {
   "cell_type": "markdown",
   "metadata": {},
   "source": [
    "I'm unsure the reason why **total income** and **days employed** are null but it was important to ntice a customer either has both or is missing both. As the majority did not default, I assume that rather than these customers not having income we just don't have employment information. I tried to identify another column that would indicate when this happens without luck. Although we could keep them as NaN and still do math on the column and although I could replace total income with the median, we wouldn't be able to keep days_employed and still do the data type replacement asked later in this project. For this reason only, they were dropped and hence we lost 8% of the records.\n",
    "\n",
    "As 20 **children** is unrealistic, -1 is impossible, and number of children is a variable of interest: I have dropped these.\n",
    "\n",
    "There was a **gender** called 'XNA' as it includes NA I'm leaning to assume that it wasn't available but there is potential the customer either didnt want to fill this or perhaps this is a categorization for non-binary. As we don't know the reason and it is only 1 record, it was dropped\n",
    "\n",
    "In the **age** column there was a value of 0 which is clearly impossible. This was dropped.\n",
    "\n",
    "At the end, we dropped 11% of the original dataset."
   ]
  },
  {
   "cell_type": "markdown",
   "metadata": {},
   "source": [
    "### Data type replacement"
   ]
  },
  {
   "cell_type": "code",
   "execution_count": 66,
   "metadata": {},
   "outputs": [
    {
     "name": "stdout",
     "output_type": "stream",
     "text": [
      "<class 'pandas.core.frame.DataFrame'>\n",
      "Int64Index: 19149 entries, 0 to 19350\n",
      "Data columns (total 12 columns):\n",
      "children            19149 non-null int64\n",
      "days_employed       19149 non-null float64\n",
      "age                 19149 non-null int64\n",
      "education           19149 non-null object\n",
      "education_id        19149 non-null int64\n",
      "family_status       19149 non-null object\n",
      "family_status_id    19149 non-null int64\n",
      "gender              19149 non-null object\n",
      "income_type         19149 non-null object\n",
      "defaulted           19149 non-null int64\n",
      "total_income        19149 non-null float64\n",
      "loan_purpose        19149 non-null object\n",
      "dtypes: float64(2), int64(5), object(5)\n",
      "memory usage: 1.9+ MB\n"
     ]
    }
   ],
   "source": [
    "df.info()"
   ]
  },
  {
   "cell_type": "code",
   "execution_count": 67,
   "metadata": {},
   "outputs": [
    {
     "data": {
      "text/html": [
       "<div>\n",
       "<style scoped>\n",
       "    .dataframe tbody tr th:only-of-type {\n",
       "        vertical-align: middle;\n",
       "    }\n",
       "\n",
       "    .dataframe tbody tr th {\n",
       "        vertical-align: top;\n",
       "    }\n",
       "\n",
       "    .dataframe thead th {\n",
       "        text-align: right;\n",
       "    }\n",
       "</style>\n",
       "<table border=\"1\" class=\"dataframe\">\n",
       "  <thead>\n",
       "    <tr style=\"text-align: right;\">\n",
       "      <th></th>\n",
       "      <th>children</th>\n",
       "      <th>days_employed</th>\n",
       "      <th>age</th>\n",
       "      <th>education</th>\n",
       "      <th>education_id</th>\n",
       "      <th>family_status</th>\n",
       "      <th>family_status_id</th>\n",
       "      <th>gender</th>\n",
       "      <th>income_type</th>\n",
       "      <th>defaulted</th>\n",
       "      <th>total_income</th>\n",
       "      <th>loan_purpose</th>\n",
       "    </tr>\n",
       "  </thead>\n",
       "  <tbody>\n",
       "    <tr>\n",
       "      <td>0</td>\n",
       "      <td>1</td>\n",
       "      <td>-8437.673028</td>\n",
       "      <td>42</td>\n",
       "      <td>bachelor's degree</td>\n",
       "      <td>0</td>\n",
       "      <td>married</td>\n",
       "      <td>0</td>\n",
       "      <td>F</td>\n",
       "      <td>employee</td>\n",
       "      <td>0</td>\n",
       "      <td>40620.102</td>\n",
       "      <td>purchase of the house</td>\n",
       "    </tr>\n",
       "    <tr>\n",
       "      <td>1</td>\n",
       "      <td>1</td>\n",
       "      <td>-4024.803754</td>\n",
       "      <td>36</td>\n",
       "      <td>secondary education</td>\n",
       "      <td>1</td>\n",
       "      <td>married</td>\n",
       "      <td>0</td>\n",
       "      <td>F</td>\n",
       "      <td>employee</td>\n",
       "      <td>0</td>\n",
       "      <td>17932.802</td>\n",
       "      <td>car purchase</td>\n",
       "    </tr>\n",
       "    <tr>\n",
       "      <td>2</td>\n",
       "      <td>0</td>\n",
       "      <td>-5623.422610</td>\n",
       "      <td>33</td>\n",
       "      <td>Secondary Education</td>\n",
       "      <td>1</td>\n",
       "      <td>married</td>\n",
       "      <td>0</td>\n",
       "      <td>M</td>\n",
       "      <td>employee</td>\n",
       "      <td>0</td>\n",
       "      <td>23341.752</td>\n",
       "      <td>purchase of the house</td>\n",
       "    </tr>\n",
       "    <tr>\n",
       "      <td>3</td>\n",
       "      <td>3</td>\n",
       "      <td>-4124.747207</td>\n",
       "      <td>32</td>\n",
       "      <td>secondary education</td>\n",
       "      <td>1</td>\n",
       "      <td>married</td>\n",
       "      <td>0</td>\n",
       "      <td>M</td>\n",
       "      <td>employee</td>\n",
       "      <td>0</td>\n",
       "      <td>42820.568</td>\n",
       "      <td>supplementary education</td>\n",
       "    </tr>\n",
       "    <tr>\n",
       "      <td>4</td>\n",
       "      <td>0</td>\n",
       "      <td>340266.072000</td>\n",
       "      <td>53</td>\n",
       "      <td>secondary education</td>\n",
       "      <td>1</td>\n",
       "      <td>civil partnership</td>\n",
       "      <td>1</td>\n",
       "      <td>F</td>\n",
       "      <td>retiree</td>\n",
       "      <td>0</td>\n",
       "      <td>25378.572</td>\n",
       "      <td>to have a wedding</td>\n",
       "    </tr>\n",
       "  </tbody>\n",
       "</table>\n",
       "</div>"
      ],
      "text/plain": [
       "   children  days_employed  age            education  education_id  \\\n",
       "0         1   -8437.673028   42    bachelor's degree             0   \n",
       "1         1   -4024.803754   36  secondary education             1   \n",
       "2         0   -5623.422610   33  Secondary Education             1   \n",
       "3         3   -4124.747207   32  secondary education             1   \n",
       "4         0  340266.072000   53  secondary education             1   \n",
       "\n",
       "       family_status  family_status_id gender income_type  defaulted  \\\n",
       "0            married                 0      F    employee          0   \n",
       "1            married                 0      F    employee          0   \n",
       "2            married                 0      M    employee          0   \n",
       "3            married                 0      M    employee          0   \n",
       "4  civil partnership                 1      F     retiree          0   \n",
       "\n",
       "   total_income             loan_purpose  \n",
       "0     40620.102    purchase of the house  \n",
       "1     17932.802             car purchase  \n",
       "2     23341.752    purchase of the house  \n",
       "3     42820.568  supplementary education  \n",
       "4     25378.572        to have a wedding  "
      ]
     },
     "execution_count": 67,
     "metadata": {},
     "output_type": "execute_result"
    }
   ],
   "source": [
    "df.head()"
   ]
  },
  {
   "cell_type": "code",
   "execution_count": 68,
   "metadata": {},
   "outputs": [],
   "source": [
    "#Only two columns can be changed type to integers below.\n",
    "df['days_employed'] = df['days_employed'].astype(int)\n",
    "df['total_income'] = df['total_income'].astype(int)"
   ]
  },
  {
   "cell_type": "code",
   "execution_count": 69,
   "metadata": {},
   "outputs": [
    {
     "name": "stdout",
     "output_type": "stream",
     "text": [
      "<class 'pandas.core.frame.DataFrame'>\n",
      "Int64Index: 19149 entries, 0 to 19350\n",
      "Data columns (total 12 columns):\n",
      "children            19149 non-null int64\n",
      "days_employed       19149 non-null int32\n",
      "age                 19149 non-null int64\n",
      "education           19149 non-null object\n",
      "education_id        19149 non-null int64\n",
      "family_status       19149 non-null object\n",
      "family_status_id    19149 non-null int64\n",
      "gender              19149 non-null object\n",
      "income_type         19149 non-null object\n",
      "defaulted           19149 non-null int64\n",
      "total_income        19149 non-null int32\n",
      "loan_purpose        19149 non-null object\n",
      "dtypes: int32(2), int64(5), object(5)\n",
      "memory usage: 1.8+ MB\n"
     ]
    }
   ],
   "source": [
    "df.info()"
   ]
  },
  {
   "cell_type": "markdown",
   "metadata": {},
   "source": [
    "### Conclusion"
   ]
  },
  {
   "cell_type": "markdown",
   "metadata": {},
   "source": [
    "We have changed the data types of the days_employed and total_income from float to integers. The remaining data types are correct. Surprisingly... despite the change from float to int, the dataset still uses the same memory.\n",
    "\n",
    "**Recommendation** - Clearly, there is something wrong with the days_employed column. There are negative numbers but these are not just outliers; they represent the majority of the column. Why is this happening?"
   ]
  },
  {
   "cell_type": "markdown",
   "metadata": {},
   "source": [
    "### Processing duplicates"
   ]
  },
  {
   "cell_type": "markdown",
   "metadata": {},
   "source": [
    "As noticed during first exploring the data, the field **education** has dupes that are only the results of different cases. This is an easy fix"
   ]
  },
  {
   "cell_type": "code",
   "execution_count": 70,
   "metadata": {},
   "outputs": [
    {
     "data": {
      "text/plain": [
       "secondary education    12216\n",
       "bachelor's degree       4175\n",
       "SECONDARY EDUCATION      697\n",
       "Secondary Education      636\n",
       "some college             607\n",
       "BACHELOR'S DEGREE        247\n",
       "Bachelor's Degree        242\n",
       "primary education        231\n",
       "Some College              40\n",
       "SOME COLLEGE              22\n",
       "PRIMARY EDUCATION         16\n",
       "Primary Education         14\n",
       "graduate degree            4\n",
       "Graduate Degree            1\n",
       "GRADUATE DEGREE            1\n",
       "Name: education, dtype: int64"
      ]
     },
     "execution_count": 70,
     "metadata": {},
     "output_type": "execute_result"
    }
   ],
   "source": [
    "df['education'].value_counts()"
   ]
  },
  {
   "cell_type": "code",
   "execution_count": 71,
   "metadata": {},
   "outputs": [],
   "source": [
    "df['education'] = df['education'].str.lower()"
   ]
  },
  {
   "cell_type": "code",
   "execution_count": 72,
   "metadata": {
    "scrolled": false
   },
   "outputs": [
    {
     "data": {
      "text/plain": [
       "secondary education    13549\n",
       "bachelor's degree       4664\n",
       "some college             669\n",
       "primary education        261\n",
       "graduate degree            6\n",
       "Name: education, dtype: int64"
      ]
     },
     "execution_count": 72,
     "metadata": {},
     "output_type": "execute_result"
    }
   ],
   "source": [
    "df['education'].value_counts()"
   ]
  },
  {
   "cell_type": "markdown",
   "metadata": {},
   "source": [
    "As noticed during first exploring the data, the field **purpose** has a lot of dupes that do not follow a strict pattern. I have been able to identify key words that will enable us to rephrase these in an easier way to follow."
   ]
  },
  {
   "cell_type": "code",
   "execution_count": 73,
   "metadata": {},
   "outputs": [
    {
     "data": {
      "text/plain": [
       "wedding ceremony                            716\n",
       "to have a wedding                           684\n",
       "having a wedding                            677\n",
       "real estate transactions                    609\n",
       "buy commercial real estate                  592\n",
       "buying property for renting out             584\n",
       "purchase of the house                       584\n",
       "housing                                     579\n",
       "transactions with commercial real estate    575\n",
       "building a real estate                      573\n",
       "purchase of my own house                    572\n",
       "housing transactions                        569\n",
       "purchase of the house for my family         568\n",
       "property                                    568\n",
       "building a property                         561\n",
       "transactions with my real estate            555\n",
       "construction of own property                551\n",
       "buy real estate                             545\n",
       "buy residential real estate                 541\n",
       "housing renovation                          538\n",
       "buying my own car                           449\n",
       "car                                         448\n",
       "going to university                         437\n",
       "to buy a car                                436\n",
       "buying a second-hand car                    430\n",
       "second-hand car purchase                    428\n",
       "to own a car                                420\n",
       "cars                                        417\n",
       "car purchase                                415\n",
       "purchase of a car                           408\n",
       "supplementary education                     407\n",
       "university education                        405\n",
       "education                                   398\n",
       "to get a supplementary education            392\n",
       "getting an education                        390\n",
       "getting higher education                    387\n",
       "profile education                           385\n",
       "to become educated                          356\n",
       "Name: loan_purpose, dtype: int64"
      ]
     },
     "execution_count": 73,
     "metadata": {},
     "output_type": "execute_result"
    }
   ],
   "source": [
    "df['loan_purpose'].value_counts()"
   ]
  },
  {
   "cell_type": "code",
   "execution_count": 74,
   "metadata": {},
   "outputs": [],
   "source": [
    "def purpose_category(purpose):\n",
    "    if 'wedding' in purpose:\n",
    "        return 'wedding'\n",
    "    elif 'education' in purpose:\n",
    "        return 'education'\n",
    "    elif 'university' in purpose:\n",
    "        return 'education'\n",
    "    elif 'educated' in purpose:\n",
    "        return 'education'\n",
    "    elif 'car' in purpose:\n",
    "        return 'car'\n",
    "    elif 'cars' in purpose:\n",
    "        return 'car'\n",
    "    elif 'property' in purpose:\n",
    "        return 'real estate'\n",
    "    elif 'house' in purpose:\n",
    "        return 'real estate'\n",
    "    elif 'real estate' in purpose:\n",
    "        return 'real estate'\n",
    "    elif 'housing' in purpose:\n",
    "        return 'real estate'\n",
    "    else:\n",
    "        return 'missing'"
   ]
  },
  {
   "cell_type": "code",
   "execution_count": 75,
   "metadata": {},
   "outputs": [],
   "source": [
    "df['purpose_category'] = df['loan_purpose'].apply(purpose_category)"
   ]
  },
  {
   "cell_type": "code",
   "execution_count": 76,
   "metadata": {
    "scrolled": true
   },
   "outputs": [
    {
     "data": {
      "text/plain": [
       "real estate    9664\n",
       "car            3851\n",
       "education      3557\n",
       "wedding        2077\n",
       "Name: purpose_category, dtype: int64"
      ]
     },
     "execution_count": 76,
     "metadata": {},
     "output_type": "execute_result"
    }
   ],
   "source": [
    "df['purpose_category'].value_counts()"
   ]
  },
  {
   "cell_type": "code",
   "execution_count": 77,
   "metadata": {},
   "outputs": [
    {
     "data": {
      "text/html": [
       "<div>\n",
       "<style scoped>\n",
       "    .dataframe tbody tr th:only-of-type {\n",
       "        vertical-align: middle;\n",
       "    }\n",
       "\n",
       "    .dataframe tbody tr th {\n",
       "        vertical-align: top;\n",
       "    }\n",
       "\n",
       "    .dataframe thead th {\n",
       "        text-align: right;\n",
       "    }\n",
       "</style>\n",
       "<table border=\"1\" class=\"dataframe\">\n",
       "  <thead>\n",
       "    <tr style=\"text-align: right;\">\n",
       "      <th></th>\n",
       "      <th>children</th>\n",
       "      <th>days_employed</th>\n",
       "      <th>age</th>\n",
       "      <th>education</th>\n",
       "      <th>education_id</th>\n",
       "      <th>family_status</th>\n",
       "      <th>family_status_id</th>\n",
       "      <th>gender</th>\n",
       "      <th>income_type</th>\n",
       "      <th>defaulted</th>\n",
       "      <th>total_income</th>\n",
       "      <th>loan_purpose</th>\n",
       "      <th>purpose_category</th>\n",
       "    </tr>\n",
       "  </thead>\n",
       "  <tbody>\n",
       "  </tbody>\n",
       "</table>\n",
       "</div>"
      ],
      "text/plain": [
       "Empty DataFrame\n",
       "Columns: [children, days_employed, age, education, education_id, family_status, family_status_id, gender, income_type, defaulted, total_income, loan_purpose, purpose_category]\n",
       "Index: []"
      ]
     },
     "execution_count": 77,
     "metadata": {},
     "output_type": "execute_result"
    }
   ],
   "source": [
    "df.loc[df['purpose_category'] =='missing']"
   ]
  },
  {
   "cell_type": "markdown",
   "metadata": {},
   "source": [
    "Purpose now was made into 4 buckets that we could work with rather than having so many dupes that mean the same thing. This formula won't sustain all future inputs. This is a good time to add data validation so the customer picks from reasons. If this lists exist, we can use it in this function. "
   ]
  },
  {
   "cell_type": "markdown",
   "metadata": {},
   "source": [
    "### Conclusion"
   ]
  },
  {
   "cell_type": "markdown",
   "metadata": {},
   "source": [
    "Education was easily fixed by just having a matching case. We should make it inherent to the database that this column is automaticlally turned lower case.\n",
    "\n",
    "Regarding purpose, purpose was changed to 4 buckets in a new purpose category column that we can work with moving forward."
   ]
  },
  {
   "cell_type": "markdown",
   "metadata": {},
   "source": [
    "### Categorizing Data"
   ]
  },
  {
   "cell_type": "markdown",
   "metadata": {},
   "source": [
    "The field age is fine but doing analysis on each individual age doesn't make sense. It would be more logical to put the ages in categories."
   ]
  },
  {
   "cell_type": "code",
   "execution_count": 78,
   "metadata": {
    "scrolled": true
   },
   "outputs": [
    {
     "data": {
      "text/plain": [
       "35    553\n",
       "41    544\n",
       "38    541\n",
       "40    537\n",
       "34    528\n",
       "42    528\n",
       "33    526\n",
       "39    522\n",
       "44    499\n",
       "29    493\n",
       "31    491\n",
       "36    490\n",
       "48    490\n",
       "37    478\n",
       "30    478\n",
       "32    469\n",
       "43    460\n",
       "50    459\n",
       "49    455\n",
       "27    454\n",
       "45    444\n",
       "28    444\n",
       "52    430\n",
       "56    429\n",
       "54    421\n",
       "47    421\n",
       "46    421\n",
       "53    414\n",
       "59    408\n",
       "58    405\n",
       "57    402\n",
       "51    396\n",
       "55    393\n",
       "26    371\n",
       "60    338\n",
       "25    334\n",
       "61    315\n",
       "62    313\n",
       "24    241\n",
       "63    239\n",
       "64    226\n",
       "23    216\n",
       "65    174\n",
       "22    166\n",
       "66    163\n",
       "67    151\n",
       "21     92\n",
       "68     90\n",
       "69     78\n",
       "70     62\n",
       "71     53\n",
       "20     46\n",
       "72     31\n",
       "19     13\n",
       "73      7\n",
       "74      6\n",
       "75      1\n",
       "Name: age, dtype: int64"
      ]
     },
     "execution_count": 78,
     "metadata": {},
     "output_type": "execute_result"
    }
   ],
   "source": [
    "df['age'].value_counts()"
   ]
  },
  {
   "cell_type": "code",
   "execution_count": 79,
   "metadata": {
    "scrolled": true
   },
   "outputs": [
    {
     "data": {
      "text/plain": [
       "19"
      ]
     },
     "execution_count": 79,
     "metadata": {},
     "output_type": "execute_result"
    }
   ],
   "source": [
    "df['age'].min()"
   ]
  },
  {
   "cell_type": "code",
   "execution_count": 80,
   "metadata": {},
   "outputs": [
    {
     "data": {
      "text/plain": [
       "75"
      ]
     },
     "execution_count": 80,
     "metadata": {},
     "output_type": "execute_result"
    }
   ],
   "source": [
    "df['age'].max()"
   ]
  },
  {
   "cell_type": "code",
   "execution_count": 81,
   "metadata": {},
   "outputs": [
    {
     "data": {
      "text/plain": [
       "43.0"
      ]
     },
     "execution_count": 81,
     "metadata": {},
     "output_type": "execute_result"
    }
   ],
   "source": [
    "df['age'].median()"
   ]
  },
  {
   "cell_type": "markdown",
   "metadata": {},
   "source": [
    "Although I considered doing 20s, 30s, etc I didn't feel it was fair to have a 10s category for 19. Hence, these are the age brackets we are going with based on a quick check online\n",
    "\n",
    "* 18-24 years old\n",
    "* 25-34 years old\n",
    "* 35-44 years old\n",
    "* 45-54 years old\n",
    "* 55-64 years old\n",
    "* 65-74 years old\n",
    "* 75 years or older"
   ]
  },
  {
   "cell_type": "code",
   "execution_count": 82,
   "metadata": {},
   "outputs": [],
   "source": [
    "def age_group(age):\n",
    "    if age < 18:\n",
    "        return 'Under 18'\n",
    "    elif 18 <= age <=24:\n",
    "        return \"18-24\"\n",
    "    elif 25 <= age <= 34:\n",
    "        return \"25-34\"\n",
    "    elif 35 <= age <= 44:\n",
    "        return \"35-44\"\n",
    "    elif 45 <= age <= 54:\n",
    "        return \"45-54\"\n",
    "    elif 55 <= age <= 64:\n",
    "        return \"55-64\"\n",
    "    elif 65 <= age <= 74:\n",
    "        return \"65-74\"\n",
    "    else:\n",
    "        return \"75 or over\"\n",
    "    "
   ]
  },
  {
   "cell_type": "code",
   "execution_count": 83,
   "metadata": {},
   "outputs": [],
   "source": [
    "df['age_group'] = df['age'].apply(age_group)"
   ]
  },
  {
   "cell_type": "code",
   "execution_count": 84,
   "metadata": {
    "scrolled": true
   },
   "outputs": [
    {
     "data": {
      "text/html": [
       "<div>\n",
       "<style scoped>\n",
       "    .dataframe tbody tr th:only-of-type {\n",
       "        vertical-align: middle;\n",
       "    }\n",
       "\n",
       "    .dataframe tbody tr th {\n",
       "        vertical-align: top;\n",
       "    }\n",
       "\n",
       "    .dataframe thead th {\n",
       "        text-align: right;\n",
       "    }\n",
       "</style>\n",
       "<table border=\"1\" class=\"dataframe\">\n",
       "  <thead>\n",
       "    <tr style=\"text-align: right;\">\n",
       "      <th></th>\n",
       "      <th>children</th>\n",
       "      <th>days_employed</th>\n",
       "      <th>age</th>\n",
       "      <th>education</th>\n",
       "      <th>education_id</th>\n",
       "      <th>family_status</th>\n",
       "      <th>family_status_id</th>\n",
       "      <th>gender</th>\n",
       "      <th>income_type</th>\n",
       "      <th>defaulted</th>\n",
       "      <th>total_income</th>\n",
       "      <th>loan_purpose</th>\n",
       "      <th>purpose_category</th>\n",
       "      <th>age_group</th>\n",
       "    </tr>\n",
       "  </thead>\n",
       "  <tbody>\n",
       "    <tr>\n",
       "      <td>0</td>\n",
       "      <td>1</td>\n",
       "      <td>-8437</td>\n",
       "      <td>42</td>\n",
       "      <td>bachelor's degree</td>\n",
       "      <td>0</td>\n",
       "      <td>married</td>\n",
       "      <td>0</td>\n",
       "      <td>F</td>\n",
       "      <td>employee</td>\n",
       "      <td>0</td>\n",
       "      <td>40620</td>\n",
       "      <td>purchase of the house</td>\n",
       "      <td>real estate</td>\n",
       "      <td>35-44</td>\n",
       "    </tr>\n",
       "    <tr>\n",
       "      <td>1</td>\n",
       "      <td>1</td>\n",
       "      <td>-4024</td>\n",
       "      <td>36</td>\n",
       "      <td>secondary education</td>\n",
       "      <td>1</td>\n",
       "      <td>married</td>\n",
       "      <td>0</td>\n",
       "      <td>F</td>\n",
       "      <td>employee</td>\n",
       "      <td>0</td>\n",
       "      <td>17932</td>\n",
       "      <td>car purchase</td>\n",
       "      <td>car</td>\n",
       "      <td>35-44</td>\n",
       "    </tr>\n",
       "    <tr>\n",
       "      <td>2</td>\n",
       "      <td>0</td>\n",
       "      <td>-5623</td>\n",
       "      <td>33</td>\n",
       "      <td>secondary education</td>\n",
       "      <td>1</td>\n",
       "      <td>married</td>\n",
       "      <td>0</td>\n",
       "      <td>M</td>\n",
       "      <td>employee</td>\n",
       "      <td>0</td>\n",
       "      <td>23341</td>\n",
       "      <td>purchase of the house</td>\n",
       "      <td>real estate</td>\n",
       "      <td>25-34</td>\n",
       "    </tr>\n",
       "    <tr>\n",
       "      <td>3</td>\n",
       "      <td>3</td>\n",
       "      <td>-4124</td>\n",
       "      <td>32</td>\n",
       "      <td>secondary education</td>\n",
       "      <td>1</td>\n",
       "      <td>married</td>\n",
       "      <td>0</td>\n",
       "      <td>M</td>\n",
       "      <td>employee</td>\n",
       "      <td>0</td>\n",
       "      <td>42820</td>\n",
       "      <td>supplementary education</td>\n",
       "      <td>education</td>\n",
       "      <td>25-34</td>\n",
       "    </tr>\n",
       "    <tr>\n",
       "      <td>4</td>\n",
       "      <td>0</td>\n",
       "      <td>340266</td>\n",
       "      <td>53</td>\n",
       "      <td>secondary education</td>\n",
       "      <td>1</td>\n",
       "      <td>civil partnership</td>\n",
       "      <td>1</td>\n",
       "      <td>F</td>\n",
       "      <td>retiree</td>\n",
       "      <td>0</td>\n",
       "      <td>25378</td>\n",
       "      <td>to have a wedding</td>\n",
       "      <td>wedding</td>\n",
       "      <td>45-54</td>\n",
       "    </tr>\n",
       "  </tbody>\n",
       "</table>\n",
       "</div>"
      ],
      "text/plain": [
       "   children  days_employed  age            education  education_id  \\\n",
       "0         1          -8437   42    bachelor's degree             0   \n",
       "1         1          -4024   36  secondary education             1   \n",
       "2         0          -5623   33  secondary education             1   \n",
       "3         3          -4124   32  secondary education             1   \n",
       "4         0         340266   53  secondary education             1   \n",
       "\n",
       "       family_status  family_status_id gender income_type  defaulted  \\\n",
       "0            married                 0      F    employee          0   \n",
       "1            married                 0      F    employee          0   \n",
       "2            married                 0      M    employee          0   \n",
       "3            married                 0      M    employee          0   \n",
       "4  civil partnership                 1      F     retiree          0   \n",
       "\n",
       "   total_income             loan_purpose purpose_category age_group  \n",
       "0         40620    purchase of the house      real estate     35-44  \n",
       "1         17932             car purchase              car     35-44  \n",
       "2         23341    purchase of the house      real estate     25-34  \n",
       "3         42820  supplementary education        education     25-34  \n",
       "4         25378        to have a wedding          wedding     45-54  "
      ]
     },
     "execution_count": 84,
     "metadata": {},
     "output_type": "execute_result"
    }
   ],
   "source": [
    "df.head()"
   ]
  },
  {
   "cell_type": "code",
   "execution_count": 85,
   "metadata": {
    "scrolled": true
   },
   "outputs": [
    {
     "data": {
      "text/plain": [
       "35-44         5152\n",
       "25-34         4588\n",
       "45-54         4351\n",
       "55-64         3468\n",
       "65-74          815\n",
       "18-24          774\n",
       "75 or over       1\n",
       "Name: age_group, dtype: int64"
      ]
     },
     "execution_count": 85,
     "metadata": {},
     "output_type": "execute_result"
    }
   ],
   "source": [
    "df['age_group'].value_counts()"
   ]
  },
  {
   "cell_type": "markdown",
   "metadata": {},
   "source": [
    "as the last two brackets are so small, let's turn those into 1. "
   ]
  },
  {
   "cell_type": "code",
   "execution_count": 86,
   "metadata": {},
   "outputs": [],
   "source": [
    "def age_group(age):\n",
    "    if age < 18:\n",
    "        return 'Under 18'\n",
    "    elif 18 <= age <=24:\n",
    "        return \"18-24\"\n",
    "    elif 25 <= age <= 34:\n",
    "        return \"25-34\"\n",
    "    elif 35 <= age <= 44:\n",
    "        return \"35-44\"\n",
    "    elif 45 <= age <= 54:\n",
    "        return \"45-54\"\n",
    "    elif 55 <= age <= 64:\n",
    "        return \"55-64\"\n",
    "    else:\n",
    "        return \"65 or over\""
   ]
  },
  {
   "cell_type": "code",
   "execution_count": 87,
   "metadata": {},
   "outputs": [],
   "source": [
    "df['age_group'] = df['age'].apply(age_group)"
   ]
  },
  {
   "cell_type": "code",
   "execution_count": 88,
   "metadata": {
    "scrolled": true
   },
   "outputs": [
    {
     "data": {
      "text/plain": [
       "35-44         5152\n",
       "25-34         4588\n",
       "45-54         4351\n",
       "55-64         3468\n",
       "65 or over     816\n",
       "18-24          774\n",
       "Name: age_group, dtype: int64"
      ]
     },
     "execution_count": 88,
     "metadata": {},
     "output_type": "execute_result"
    }
   ],
   "source": [
    "df['age_group'].value_counts()"
   ]
  },
  {
   "cell_type": "code",
   "execution_count": 89,
   "metadata": {
    "scrolled": false
   },
   "outputs": [
    {
     "data": {
      "text/plain": [
       "35-44         0.269048\n",
       "25-34         0.239595\n",
       "45-54         0.227218\n",
       "55-64         0.181106\n",
       "65 or over    0.042613\n",
       "18-24         0.040420\n",
       "Name: age_group, dtype: float64"
      ]
     },
     "execution_count": 89,
     "metadata": {},
     "output_type": "execute_result"
    }
   ],
   "source": [
    "df['age_group'].value_counts(normalize=True)"
   ]
  },
  {
   "cell_type": "code",
   "execution_count": 90,
   "metadata": {},
   "outputs": [
    {
     "data": {
      "text/plain": [
       "3306"
      ]
     },
     "execution_count": 90,
     "metadata": {},
     "output_type": "execute_result"
    }
   ],
   "source": [
    "# TOTAL INCOME\n",
    "df['total_income'].min()"
   ]
  },
  {
   "cell_type": "code",
   "execution_count": 91,
   "metadata": {
    "scrolled": true
   },
   "outputs": [
    {
     "data": {
      "text/plain": [
       "362496"
      ]
     },
     "execution_count": 91,
     "metadata": {},
     "output_type": "execute_result"
    }
   ],
   "source": [
    "df['total_income'].max()"
   ]
  },
  {
   "cell_type": "code",
   "execution_count": 92,
   "metadata": {},
   "outputs": [
    {
     "data": {
      "text/plain": [
       "23202.0"
      ]
     },
     "execution_count": 92,
     "metadata": {},
     "output_type": "execute_result"
    }
   ],
   "source": [
    "df['total_income'].median()"
   ]
  },
  {
   "cell_type": "code",
   "execution_count": 93,
   "metadata": {
    "scrolled": true
   },
   "outputs": [
    {
     "data": {
      "text/plain": [
       "13154    3306\n",
       "11727    3392\n",
       "14565    3418\n",
       "1444     3471\n",
       "12876    3503\n",
       "9826     3595\n",
       "16659    3815\n",
       "8203     3913\n",
       "9088     4036\n",
       "10866    4049\n",
       "13863    4212\n",
       "7481     4245\n",
       "16099    4386\n",
       "9591     4444\n",
       "19049    4465\n",
       "13451    4494\n",
       "14938    4592\n",
       "18171    4650\n",
       "3658     4664\n",
       "16799    4672\n",
       "Name: total_income, dtype: int32"
      ]
     },
     "execution_count": 93,
     "metadata": {},
     "output_type": "execute_result"
    }
   ],
   "source": [
    "#Is such a low income logical considering the mediann?\n",
    "df['total_income'].sort_values().head(20)"
   ]
  },
  {
   "cell_type": "markdown",
   "metadata": {},
   "source": [
    "A look at the lowest incomes suggests that it is possible that you get very low incomes. No indication there were a few outliers as I originall expected"
   ]
  },
  {
   "cell_type": "markdown",
   "metadata": {},
   "source": [
    "It is hard to look at each income individually. We are creating brackets based on 5k increments.\n",
    "* less than 5000\n",
    "* 5000-9999\n",
    "* 10000-14999\n",
    "* 15000 - 19999\n",
    "* 20000 or more"
   ]
  },
  {
   "cell_type": "code",
   "execution_count": 94,
   "metadata": {},
   "outputs": [],
   "source": [
    "def income_group(income):\n",
    "    if income < 10000:\n",
    "        return 'Under 10000'\n",
    "    elif 10000 <= income <15000:\n",
    "        return \"10000 - 14999\"\n",
    "    elif 15000 <= income <20000:\n",
    "        return \"15000 - 19999\"\n",
    "    elif 20000 <= income <25000:\n",
    "        return \"20000 - 24999\"\n",
    "    elif 25000 <= income <30000:\n",
    "        return \"25000 - 29999\"\n",
    "    else:\n",
    "        return \"30000 or more\""
   ]
  },
  {
   "cell_type": "code",
   "execution_count": 95,
   "metadata": {},
   "outputs": [],
   "source": [
    "df['income_group'] = df['total_income'].apply(income_group)"
   ]
  },
  {
   "cell_type": "code",
   "execution_count": 96,
   "metadata": {
    "scrolled": true
   },
   "outputs": [
    {
     "data": {
      "text/html": [
       "<div>\n",
       "<style scoped>\n",
       "    .dataframe tbody tr th:only-of-type {\n",
       "        vertical-align: middle;\n",
       "    }\n",
       "\n",
       "    .dataframe tbody tr th {\n",
       "        vertical-align: top;\n",
       "    }\n",
       "\n",
       "    .dataframe thead th {\n",
       "        text-align: right;\n",
       "    }\n",
       "</style>\n",
       "<table border=\"1\" class=\"dataframe\">\n",
       "  <thead>\n",
       "    <tr style=\"text-align: right;\">\n",
       "      <th></th>\n",
       "      <th>children</th>\n",
       "      <th>days_employed</th>\n",
       "      <th>age</th>\n",
       "      <th>education</th>\n",
       "      <th>education_id</th>\n",
       "      <th>family_status</th>\n",
       "      <th>family_status_id</th>\n",
       "      <th>gender</th>\n",
       "      <th>income_type</th>\n",
       "      <th>defaulted</th>\n",
       "      <th>total_income</th>\n",
       "      <th>loan_purpose</th>\n",
       "      <th>purpose_category</th>\n",
       "      <th>age_group</th>\n",
       "      <th>income_group</th>\n",
       "    </tr>\n",
       "  </thead>\n",
       "  <tbody>\n",
       "    <tr>\n",
       "      <td>0</td>\n",
       "      <td>1</td>\n",
       "      <td>-8437</td>\n",
       "      <td>42</td>\n",
       "      <td>bachelor's degree</td>\n",
       "      <td>0</td>\n",
       "      <td>married</td>\n",
       "      <td>0</td>\n",
       "      <td>F</td>\n",
       "      <td>employee</td>\n",
       "      <td>0</td>\n",
       "      <td>40620</td>\n",
       "      <td>purchase of the house</td>\n",
       "      <td>real estate</td>\n",
       "      <td>35-44</td>\n",
       "      <td>30000 or more</td>\n",
       "    </tr>\n",
       "    <tr>\n",
       "      <td>1</td>\n",
       "      <td>1</td>\n",
       "      <td>-4024</td>\n",
       "      <td>36</td>\n",
       "      <td>secondary education</td>\n",
       "      <td>1</td>\n",
       "      <td>married</td>\n",
       "      <td>0</td>\n",
       "      <td>F</td>\n",
       "      <td>employee</td>\n",
       "      <td>0</td>\n",
       "      <td>17932</td>\n",
       "      <td>car purchase</td>\n",
       "      <td>car</td>\n",
       "      <td>35-44</td>\n",
       "      <td>15000 - 19999</td>\n",
       "    </tr>\n",
       "    <tr>\n",
       "      <td>2</td>\n",
       "      <td>0</td>\n",
       "      <td>-5623</td>\n",
       "      <td>33</td>\n",
       "      <td>secondary education</td>\n",
       "      <td>1</td>\n",
       "      <td>married</td>\n",
       "      <td>0</td>\n",
       "      <td>M</td>\n",
       "      <td>employee</td>\n",
       "      <td>0</td>\n",
       "      <td>23341</td>\n",
       "      <td>purchase of the house</td>\n",
       "      <td>real estate</td>\n",
       "      <td>25-34</td>\n",
       "      <td>20000 - 24999</td>\n",
       "    </tr>\n",
       "    <tr>\n",
       "      <td>3</td>\n",
       "      <td>3</td>\n",
       "      <td>-4124</td>\n",
       "      <td>32</td>\n",
       "      <td>secondary education</td>\n",
       "      <td>1</td>\n",
       "      <td>married</td>\n",
       "      <td>0</td>\n",
       "      <td>M</td>\n",
       "      <td>employee</td>\n",
       "      <td>0</td>\n",
       "      <td>42820</td>\n",
       "      <td>supplementary education</td>\n",
       "      <td>education</td>\n",
       "      <td>25-34</td>\n",
       "      <td>30000 or more</td>\n",
       "    </tr>\n",
       "    <tr>\n",
       "      <td>4</td>\n",
       "      <td>0</td>\n",
       "      <td>340266</td>\n",
       "      <td>53</td>\n",
       "      <td>secondary education</td>\n",
       "      <td>1</td>\n",
       "      <td>civil partnership</td>\n",
       "      <td>1</td>\n",
       "      <td>F</td>\n",
       "      <td>retiree</td>\n",
       "      <td>0</td>\n",
       "      <td>25378</td>\n",
       "      <td>to have a wedding</td>\n",
       "      <td>wedding</td>\n",
       "      <td>45-54</td>\n",
       "      <td>25000 - 29999</td>\n",
       "    </tr>\n",
       "  </tbody>\n",
       "</table>\n",
       "</div>"
      ],
      "text/plain": [
       "   children  days_employed  age            education  education_id  \\\n",
       "0         1          -8437   42    bachelor's degree             0   \n",
       "1         1          -4024   36  secondary education             1   \n",
       "2         0          -5623   33  secondary education             1   \n",
       "3         3          -4124   32  secondary education             1   \n",
       "4         0         340266   53  secondary education             1   \n",
       "\n",
       "       family_status  family_status_id gender income_type  defaulted  \\\n",
       "0            married                 0      F    employee          0   \n",
       "1            married                 0      F    employee          0   \n",
       "2            married                 0      M    employee          0   \n",
       "3            married                 0      M    employee          0   \n",
       "4  civil partnership                 1      F     retiree          0   \n",
       "\n",
       "   total_income             loan_purpose purpose_category age_group  \\\n",
       "0         40620    purchase of the house      real estate     35-44   \n",
       "1         17932             car purchase              car     35-44   \n",
       "2         23341    purchase of the house      real estate     25-34   \n",
       "3         42820  supplementary education        education     25-34   \n",
       "4         25378        to have a wedding          wedding     45-54   \n",
       "\n",
       "    income_group  \n",
       "0  30000 or more  \n",
       "1  15000 - 19999  \n",
       "2  20000 - 24999  \n",
       "3  30000 or more  \n",
       "4  25000 - 29999  "
      ]
     },
     "execution_count": 96,
     "metadata": {},
     "output_type": "execute_result"
    }
   ],
   "source": [
    "df.head()"
   ]
  },
  {
   "cell_type": "code",
   "execution_count": 97,
   "metadata": {},
   "outputs": [
    {
     "data": {
      "text/plain": [
       "30000 or more    5859\n",
       "15000 - 19999    3590\n",
       "20000 - 24999    3338\n",
       "10000 - 14999    2790\n",
       "25000 - 29999    2656\n",
       "Under 10000       916\n",
       "Name: income_group, dtype: int64"
      ]
     },
     "execution_count": 97,
     "metadata": {},
     "output_type": "execute_result"
    }
   ],
   "source": [
    "df['income_group'].value_counts()"
   ]
  },
  {
   "cell_type": "markdown",
   "metadata": {},
   "source": [
    "### Conclusion"
   ]
  },
  {
   "cell_type": "markdown",
   "metadata": {},
   "source": [
    "The **age** column was changed to age brackets and turned into the age_groupo column. As there was originally a 0 age which was dropped, there should be a way to validate this field. I'm assuming the customer doent want to fill it, needs to put an integer, and chooses 0. The customer shouldn't be able to enter 0 as this is an invalid integer\n",
    "\n",
    "The **total_income** column was turned into a income group column to be able to do analysis on income brackers instead"
   ]
  },
  {
   "cell_type": "markdown",
   "metadata": {},
   "source": [
    "### Step 3. Answer these questions"
   ]
  },
  {
   "cell_type": "markdown",
   "metadata": {},
   "source": [
    "- Is there a relation between having kids and repaying a loan on time?"
   ]
  },
  {
   "cell_type": "code",
   "execution_count": 98,
   "metadata": {
    "scrolled": true
   },
   "outputs": [
    {
     "name": "stdout",
     "output_type": "stream",
     "text": [
      "defaulted        0      1\n",
      "children                 \n",
      "0          11701.0  947.0\n",
      "1           3923.0  405.0\n",
      "2           1661.0  177.0\n",
      "3            271.0   22.0\n",
      "4             31.0    3.0\n",
      "5              8.0    NaN\n"
     ]
    }
   ],
   "source": [
    "df_pivot = df.pivot_table(index='children', values='education_id',columns='defaulted', aggfunc='count')\n",
    "print(df_pivot.head(10))"
   ]
  },
  {
   "cell_type": "code",
   "execution_count": 99,
   "metadata": {},
   "outputs": [
    {
     "data": {
      "text/plain": [
       "method"
      ]
     },
     "execution_count": 99,
     "metadata": {},
     "output_type": "execute_result"
    }
   ],
   "source": [
    "type(df.pivot)"
   ]
  },
  {
   "cell_type": "code",
   "execution_count": 100,
   "metadata": {
    "scrolled": true
   },
   "outputs": [
    {
     "data": {
      "text/html": [
       "<div>\n",
       "<style scoped>\n",
       "    .dataframe tbody tr th:only-of-type {\n",
       "        vertical-align: middle;\n",
       "    }\n",
       "\n",
       "    .dataframe tbody tr th {\n",
       "        vertical-align: top;\n",
       "    }\n",
       "\n",
       "    .dataframe thead th {\n",
       "        text-align: right;\n",
       "    }\n",
       "</style>\n",
       "<table border=\"1\" class=\"dataframe\">\n",
       "  <thead>\n",
       "    <tr style=\"text-align: right;\">\n",
       "      <th>defaulted</th>\n",
       "      <th>0</th>\n",
       "      <th>1</th>\n",
       "    </tr>\n",
       "    <tr>\n",
       "      <th>children</th>\n",
       "      <th></th>\n",
       "      <th></th>\n",
       "    </tr>\n",
       "  </thead>\n",
       "  <tbody>\n",
       "    <tr>\n",
       "      <td>0</td>\n",
       "      <td>11701.0</td>\n",
       "      <td>947.0</td>\n",
       "    </tr>\n",
       "    <tr>\n",
       "      <td>1</td>\n",
       "      <td>3923.0</td>\n",
       "      <td>405.0</td>\n",
       "    </tr>\n",
       "    <tr>\n",
       "      <td>2</td>\n",
       "      <td>1661.0</td>\n",
       "      <td>177.0</td>\n",
       "    </tr>\n",
       "    <tr>\n",
       "      <td>3</td>\n",
       "      <td>271.0</td>\n",
       "      <td>22.0</td>\n",
       "    </tr>\n",
       "    <tr>\n",
       "      <td>4</td>\n",
       "      <td>31.0</td>\n",
       "      <td>3.0</td>\n",
       "    </tr>\n",
       "  </tbody>\n",
       "</table>\n",
       "</div>"
      ],
      "text/plain": [
       "defaulted        0      1\n",
       "children                 \n",
       "0          11701.0  947.0\n",
       "1           3923.0  405.0\n",
       "2           1661.0  177.0\n",
       "3            271.0   22.0\n",
       "4             31.0    3.0"
      ]
     },
     "execution_count": 100,
     "metadata": {},
     "output_type": "execute_result"
    }
   ],
   "source": [
    "children = pd.DataFrame(data=df_pivot)\n",
    "children.head()"
   ]
  },
  {
   "cell_type": "code",
   "execution_count": 101,
   "metadata": {
    "scrolled": true
   },
   "outputs": [
    {
     "data": {
      "text/html": [
       "<div>\n",
       "<style scoped>\n",
       "    .dataframe tbody tr th:only-of-type {\n",
       "        vertical-align: middle;\n",
       "    }\n",
       "\n",
       "    .dataframe tbody tr th {\n",
       "        vertical-align: top;\n",
       "    }\n",
       "\n",
       "    .dataframe thead th {\n",
       "        text-align: right;\n",
       "    }\n",
       "</style>\n",
       "<table border=\"1\" class=\"dataframe\">\n",
       "  <thead>\n",
       "    <tr style=\"text-align: right;\">\n",
       "      <th>defaulted</th>\n",
       "      <th>0</th>\n",
       "      <th>1</th>\n",
       "      <th>default_rate</th>\n",
       "    </tr>\n",
       "    <tr>\n",
       "      <th>children</th>\n",
       "      <th></th>\n",
       "      <th></th>\n",
       "      <th></th>\n",
       "    </tr>\n",
       "  </thead>\n",
       "  <tbody>\n",
       "    <tr>\n",
       "      <td>0</td>\n",
       "      <td>11701.0</td>\n",
       "      <td>947.0</td>\n",
       "      <td>7.487350</td>\n",
       "    </tr>\n",
       "    <tr>\n",
       "      <td>1</td>\n",
       "      <td>3923.0</td>\n",
       "      <td>405.0</td>\n",
       "      <td>9.357671</td>\n",
       "    </tr>\n",
       "    <tr>\n",
       "      <td>2</td>\n",
       "      <td>1661.0</td>\n",
       "      <td>177.0</td>\n",
       "      <td>9.630033</td>\n",
       "    </tr>\n",
       "    <tr>\n",
       "      <td>3</td>\n",
       "      <td>271.0</td>\n",
       "      <td>22.0</td>\n",
       "      <td>7.508532</td>\n",
       "    </tr>\n",
       "    <tr>\n",
       "      <td>4</td>\n",
       "      <td>31.0</td>\n",
       "      <td>3.0</td>\n",
       "      <td>8.823529</td>\n",
       "    </tr>\n",
       "    <tr>\n",
       "      <td>5</td>\n",
       "      <td>8.0</td>\n",
       "      <td>NaN</td>\n",
       "      <td>NaN</td>\n",
       "    </tr>\n",
       "  </tbody>\n",
       "</table>\n",
       "</div>"
      ],
      "text/plain": [
       "defaulted        0      1  default_rate\n",
       "children                               \n",
       "0          11701.0  947.0      7.487350\n",
       "1           3923.0  405.0      9.357671\n",
       "2           1661.0  177.0      9.630033\n",
       "3            271.0   22.0      7.508532\n",
       "4             31.0    3.0      8.823529\n",
       "5              8.0    NaN           NaN"
      ]
     },
     "execution_count": 101,
     "metadata": {},
     "output_type": "execute_result"
    }
   ],
   "source": [
    "children['default_rate'] = children[1] / (children[0] + children[1])\n",
    "children['default_rate'] = children['default_rate'] * 100\n",
    "children"
   ]
  },
  {
   "cell_type": "code",
   "execution_count": 102,
   "metadata": {},
   "outputs": [
    {
     "data": {
      "text/plain": [
       "<matplotlib.axes._subplots.AxesSubplot at 0x243c8c69908>"
      ]
     },
     "execution_count": 102,
     "metadata": {},
     "output_type": "execute_result"
    },
    {
     "data": {
      "image/png": "[encoded data removed]",
      "text/plain": [
       "<Figure size 432x288 with 1 Axes>"
      ]
     },
     "metadata": {
      "needs_background": "light"
     },
     "output_type": "display_data"
    }
   ],
   "source": [
    "children['default_rate'].plot()"
   ]
  },
  {
   "cell_type": "code",
   "execution_count": 103,
   "metadata": {},
   "outputs": [],
   "source": [
    "children.loc[5]['default_rate'] = 0"
   ]
  },
  {
   "cell_type": "code",
   "execution_count": 104,
   "metadata": {},
   "outputs": [
    {
     "data": {
      "text/html": [
       "<div>\n",
       "<style scoped>\n",
       "    .dataframe tbody tr th:only-of-type {\n",
       "        vertical-align: middle;\n",
       "    }\n",
       "\n",
       "    .dataframe tbody tr th {\n",
       "        vertical-align: top;\n",
       "    }\n",
       "\n",
       "    .dataframe thead th {\n",
       "        text-align: right;\n",
       "    }\n",
       "</style>\n",
       "<table border=\"1\" class=\"dataframe\">\n",
       "  <thead>\n",
       "    <tr style=\"text-align: right;\">\n",
       "      <th>defaulted</th>\n",
       "      <th>0</th>\n",
       "      <th>1</th>\n",
       "      <th>default_rate</th>\n",
       "    </tr>\n",
       "    <tr>\n",
       "      <th>children</th>\n",
       "      <th></th>\n",
       "      <th></th>\n",
       "      <th></th>\n",
       "    </tr>\n",
       "  </thead>\n",
       "  <tbody>\n",
       "    <tr>\n",
       "      <td>0</td>\n",
       "      <td>11701.0</td>\n",
       "      <td>947.0</td>\n",
       "      <td>7.487350</td>\n",
       "    </tr>\n",
       "    <tr>\n",
       "      <td>1</td>\n",
       "      <td>3923.0</td>\n",
       "      <td>405.0</td>\n",
       "      <td>9.357671</td>\n",
       "    </tr>\n",
       "    <tr>\n",
       "      <td>2</td>\n",
       "      <td>1661.0</td>\n",
       "      <td>177.0</td>\n",
       "      <td>9.630033</td>\n",
       "    </tr>\n",
       "    <tr>\n",
       "      <td>3</td>\n",
       "      <td>271.0</td>\n",
       "      <td>22.0</td>\n",
       "      <td>7.508532</td>\n",
       "    </tr>\n",
       "    <tr>\n",
       "      <td>4</td>\n",
       "      <td>31.0</td>\n",
       "      <td>3.0</td>\n",
       "      <td>8.823529</td>\n",
       "    </tr>\n",
       "    <tr>\n",
       "      <td>5</td>\n",
       "      <td>8.0</td>\n",
       "      <td>NaN</td>\n",
       "      <td>0.000000</td>\n",
       "    </tr>\n",
       "  </tbody>\n",
       "</table>\n",
       "</div>"
      ],
      "text/plain": [
       "defaulted        0      1  default_rate\n",
       "children                               \n",
       "0          11701.0  947.0      7.487350\n",
       "1           3923.0  405.0      9.357671\n",
       "2           1661.0  177.0      9.630033\n",
       "3            271.0   22.0      7.508532\n",
       "4             31.0    3.0      8.823529\n",
       "5              8.0    NaN      0.000000"
      ]
     },
     "execution_count": 104,
     "metadata": {},
     "output_type": "execute_result"
    }
   ],
   "source": [
    "children"
   ]
  },
  {
   "cell_type": "code",
   "execution_count": 105,
   "metadata": {
    "scrolled": true
   },
   "outputs": [
    {
     "data": {
      "text/plain": [
       "<matplotlib.axes._subplots.AxesSubplot at 0x243c8f116d8>"
      ]
     },
     "execution_count": 105,
     "metadata": {},
     "output_type": "execute_result"
    },
    {
     "data": {
      "image/png": "[encoded data removed]",
      "text/plain": [
       "<Figure size 432x288 with 1 Axes>"
      ]
     },
     "metadata": {
      "needs_background": "light"
     },
     "output_type": "display_data"
    }
   ],
   "source": [
    "children['default_rate'].plot()"
   ]
  },
  {
   "cell_type": "markdown",
   "metadata": {},
   "source": [
    "We see that as the number of children increases so does the chance a customer will default but it peaks at 2 children and then it goes down (with a small uptick at 4 children)"
   ]
  },
  {
   "cell_type": "code",
   "execution_count": 106,
   "metadata": {},
   "outputs": [],
   "source": [
    "# we saw the trend but is there a marked difference between having children or not?\n",
    "df['children_bool'] = np.where(df['children']==0, 0, 1)"
   ]
  },
  {
   "cell_type": "code",
   "execution_count": 107,
   "metadata": {
    "scrolled": true
   },
   "outputs": [
    {
     "data": {
      "text/html": [
       "<div>\n",
       "<style scoped>\n",
       "    .dataframe tbody tr th:only-of-type {\n",
       "        vertical-align: middle;\n",
       "    }\n",
       "\n",
       "    .dataframe tbody tr th {\n",
       "        vertical-align: top;\n",
       "    }\n",
       "\n",
       "    .dataframe thead th {\n",
       "        text-align: right;\n",
       "    }\n",
       "</style>\n",
       "<table border=\"1\" class=\"dataframe\">\n",
       "  <thead>\n",
       "    <tr style=\"text-align: right;\">\n",
       "      <th>defaulted</th>\n",
       "      <th>0</th>\n",
       "      <th>1</th>\n",
       "      <th>default_rate</th>\n",
       "    </tr>\n",
       "    <tr>\n",
       "      <th>children_bool</th>\n",
       "      <th></th>\n",
       "      <th></th>\n",
       "      <th></th>\n",
       "    </tr>\n",
       "  </thead>\n",
       "  <tbody>\n",
       "    <tr>\n",
       "      <td>0</td>\n",
       "      <td>11701</td>\n",
       "      <td>947</td>\n",
       "      <td>7.48735</td>\n",
       "    </tr>\n",
       "    <tr>\n",
       "      <td>1</td>\n",
       "      <td>5894</td>\n",
       "      <td>607</td>\n",
       "      <td>9.63645</td>\n",
       "    </tr>\n",
       "  </tbody>\n",
       "</table>\n",
       "</div>"
      ],
      "text/plain": [
       "defaulted          0    1  default_rate\n",
       "children_bool                          \n",
       "0              11701  947       7.48735\n",
       "1               5894  607       9.63645"
      ]
     },
     "execution_count": 107,
     "metadata": {},
     "output_type": "execute_result"
    }
   ],
   "source": [
    "df_pivot = df.pivot_table(index='children_bool', values='education_id',columns='defaulted', aggfunc='count')\n",
    "children_bool = pd.DataFrame(data=df_pivot)\n",
    "children_bool['default_rate'] = children_bool[1] / (children_bool[0] + children[1])\n",
    "children_bool['default_rate'] = children_bool['default_rate'] * 100\n",
    "children_bool"
   ]
  },
  {
   "cell_type": "markdown",
   "metadata": {},
   "source": [
    "we see that customers with no children are less likely to default by 2 percent. Let's take a closer look at these."
   ]
  },
  {
   "cell_type": "code",
   "execution_count": 108,
   "metadata": {
    "scrolled": true
   },
   "outputs": [
    {
     "data": {
      "text/html": [
       "<div>\n",
       "<style scoped>\n",
       "    .dataframe tbody tr th:only-of-type {\n",
       "        vertical-align: middle;\n",
       "    }\n",
       "\n",
       "    .dataframe tbody tr th {\n",
       "        vertical-align: top;\n",
       "    }\n",
       "\n",
       "    .dataframe thead th {\n",
       "        text-align: right;\n",
       "    }\n",
       "</style>\n",
       "<table border=\"1\" class=\"dataframe\">\n",
       "  <thead>\n",
       "    <tr style=\"text-align: right;\">\n",
       "      <th>defaulted</th>\n",
       "      <th>children_bool</th>\n",
       "      <th>family_status</th>\n",
       "      <th>count_not_defaulted</th>\n",
       "      <th>count_defaulted</th>\n",
       "      <th>default_rate</th>\n",
       "    </tr>\n",
       "  </thead>\n",
       "  <tbody>\n",
       "    <tr>\n",
       "      <td>0</td>\n",
       "      <td>0</td>\n",
       "      <td>civil partnership</td>\n",
       "      <td>2252</td>\n",
       "      <td>200</td>\n",
       "      <td>8.156607</td>\n",
       "    </tr>\n",
       "    <tr>\n",
       "      <td>1</td>\n",
       "      <td>0</td>\n",
       "      <td>divorced</td>\n",
       "      <td>658</td>\n",
       "      <td>49</td>\n",
       "      <td>6.930693</td>\n",
       "    </tr>\n",
       "    <tr>\n",
       "      <td>2</td>\n",
       "      <td>0</td>\n",
       "      <td>married</td>\n",
       "      <td>6254</td>\n",
       "      <td>459</td>\n",
       "      <td>6.837480</td>\n",
       "    </tr>\n",
       "    <tr>\n",
       "      <td>3</td>\n",
       "      <td>0</td>\n",
       "      <td>unmarried</td>\n",
       "      <td>1830</td>\n",
       "      <td>192</td>\n",
       "      <td>9.495549</td>\n",
       "    </tr>\n",
       "    <tr>\n",
       "      <td>4</td>\n",
       "      <td>0</td>\n",
       "      <td>widow / widower</td>\n",
       "      <td>707</td>\n",
       "      <td>47</td>\n",
       "      <td>6.233422</td>\n",
       "    </tr>\n",
       "    <tr>\n",
       "      <td>5</td>\n",
       "      <td>1</td>\n",
       "      <td>civil partnership</td>\n",
       "      <td>1114</td>\n",
       "      <td>134</td>\n",
       "      <td>10.737179</td>\n",
       "    </tr>\n",
       "    <tr>\n",
       "      <td>6</td>\n",
       "      <td>1</td>\n",
       "      <td>divorced</td>\n",
       "      <td>336</td>\n",
       "      <td>26</td>\n",
       "      <td>7.182320</td>\n",
       "    </tr>\n",
       "    <tr>\n",
       "      <td>7</td>\n",
       "      <td>1</td>\n",
       "      <td>married</td>\n",
       "      <td>3934</td>\n",
       "      <td>379</td>\n",
       "      <td>8.787387</td>\n",
       "    </tr>\n",
       "    <tr>\n",
       "      <td>8</td>\n",
       "      <td>1</td>\n",
       "      <td>unmarried</td>\n",
       "      <td>418</td>\n",
       "      <td>60</td>\n",
       "      <td>12.552301</td>\n",
       "    </tr>\n",
       "    <tr>\n",
       "      <td>9</td>\n",
       "      <td>1</td>\n",
       "      <td>widow / widower</td>\n",
       "      <td>92</td>\n",
       "      <td>8</td>\n",
       "      <td>8.000000</td>\n",
       "    </tr>\n",
       "  </tbody>\n",
       "</table>\n",
       "</div>"
      ],
      "text/plain": [
       "defaulted  children_bool      family_status  count_not_defaulted  \\\n",
       "0                      0  civil partnership                 2252   \n",
       "1                      0           divorced                  658   \n",
       "2                      0            married                 6254   \n",
       "3                      0          unmarried                 1830   \n",
       "4                      0    widow / widower                  707   \n",
       "5                      1  civil partnership                 1114   \n",
       "6                      1           divorced                  336   \n",
       "7                      1            married                 3934   \n",
       "8                      1          unmarried                  418   \n",
       "9                      1    widow / widower                   92   \n",
       "\n",
       "defaulted  count_defaulted  default_rate  \n",
       "0                      200      8.156607  \n",
       "1                       49      6.930693  \n",
       "2                      459      6.837480  \n",
       "3                      192      9.495549  \n",
       "4                       47      6.233422  \n",
       "5                      134     10.737179  \n",
       "6                       26      7.182320  \n",
       "7                      379      8.787387  \n",
       "8                       60     12.552301  \n",
       "9                        8      8.000000  "
      ]
     },
     "execution_count": 108,
     "metadata": {},
     "output_type": "execute_result"
    }
   ],
   "source": [
    "df_pivot = df.pivot_table(index=['children_bool','family_status'], values='education_id',columns='defaulted', aggfunc='count')\n",
    "children_bool = pd.DataFrame(data=df_pivot)\n",
    "children_bool = children_bool.reset_index()  #to be able to calculate with multiindex\n",
    "children_bool = children_bool.rename(columns={0: 'count_not_defaulted', 1: 'count_defaulted'})\n",
    "children_bool['default_rate'] = children_bool['count_defaulted'] / (children_bool['count_defaulted'] + children_bool['count_not_defaulted'])\n",
    "children_bool['default_rate'] = children_bool['default_rate'] * 100\n",
    "children_bool"
   ]
  },
  {
   "cell_type": "code",
   "execution_count": 109,
   "metadata": {
    "scrolled": false
   },
   "outputs": [
    {
     "data": {
      "image/png": "[encoded data removed]",
      "text/plain": [
       "<Figure size 432x288 with 1 Axes>"
      ]
     },
     "metadata": {
      "needs_background": "light"
     },
     "output_type": "display_data"
    }
   ],
   "source": [
    "ax = sns.barplot(x=\"family_status\", y=\"default_rate\", hue=\"children_bool\", data=children_bool)"
   ]
  },
  {
   "cell_type": "code",
   "execution_count": 110,
   "metadata": {},
   "outputs": [
    {
     "data": {
      "image/png": "[encoded data removed]",
      "text/plain": [
       "<Figure size 432x288 with 1 Axes>"
      ]
     },
     "metadata": {
      "needs_background": "light"
     },
     "output_type": "display_data"
    }
   ],
   "source": [
    "#Let's look at age now.\n",
    "df_pivot = df.pivot_table(index=['children_bool','age_group'], values='education_id',columns='defaulted', aggfunc='count')\n",
    "children_bool = pd.DataFrame(data=df_pivot)\n",
    "children_bool = children_bool.reset_index()  #to be able to calculate with multiindex\n",
    "children_bool = children_bool.rename(columns={0: 'count_not_defaulted', 1: 'count_defaulted'})\n",
    "children_bool['default_rate'] = children_bool['count_defaulted'] / (children_bool['count_defaulted'] + children_bool['count_not_defaulted'])\n",
    "children_bool['default_rate'] = children_bool['default_rate'] * 100\n",
    "children_bool\n",
    "ax = sns.barplot(x=\"age_group\", y=\"default_rate\", hue=\"children_bool\", data=children_bool)"
   ]
  },
  {
   "cell_type": "markdown",
   "metadata": {},
   "source": [
    "### Conclusion"
   ]
  },
  {
   "cell_type": "markdown",
   "metadata": {},
   "source": [
    "**Yes**, there is a connection with default rates and number of children. As number of children increase so does the default rate with a peak at 2 children but then it goes down (with a small uptick at 4 children) and by the time it reaches 5 you are the least likely to default. \n",
    "\n",
    "If we just classify customers as with children or without, we see that customers without children are 2% less likely to default but it seems from our previous observation this is mostly related to the challenges of having your first children.\n",
    "\n",
    "To dive deeper, we have looked at the chance a customer will default based if they have children AND their marital status. Across the board, you are more likely to default if you have children BUT we now we see a more complete picture. There is  wider difference in default rates for unmarried customers than married or certainly divorced. \n",
    "\n",
    "As we looked at age and having children, we see the trend that you are more likely if you have children and that as you age you are less likely to default however there is an interesting pattern in the 55-64 category. 55-64 customers are more likely to default if they dont have children. Perhaps we can deduce that children help elderly parents"
   ]
  },
  {
   "cell_type": "markdown",
   "metadata": {},
   "source": [
    "- Is there a relation between marital status and repaying a loan on time?"
   ]
  },
  {
   "cell_type": "code",
   "execution_count": 111,
   "metadata": {
    "scrolled": true
   },
   "outputs": [
    {
     "data": {
      "text/html": [
       "<div>\n",
       "<style scoped>\n",
       "    .dataframe tbody tr th:only-of-type {\n",
       "        vertical-align: middle;\n",
       "    }\n",
       "\n",
       "    .dataframe tbody tr th {\n",
       "        vertical-align: top;\n",
       "    }\n",
       "\n",
       "    .dataframe thead th {\n",
       "        text-align: right;\n",
       "    }\n",
       "</style>\n",
       "<table border=\"1\" class=\"dataframe\">\n",
       "  <thead>\n",
       "    <tr style=\"text-align: right;\">\n",
       "      <th>defaulted</th>\n",
       "      <th>0</th>\n",
       "      <th>1</th>\n",
       "      <th>default_rate</th>\n",
       "    </tr>\n",
       "    <tr>\n",
       "      <th>family_status</th>\n",
       "      <th></th>\n",
       "      <th></th>\n",
       "      <th></th>\n",
       "    </tr>\n",
       "  </thead>\n",
       "  <tbody>\n",
       "    <tr>\n",
       "      <td>civil partnership</td>\n",
       "      <td>3366</td>\n",
       "      <td>334</td>\n",
       "      <td>9.027027</td>\n",
       "    </tr>\n",
       "    <tr>\n",
       "      <td>divorced</td>\n",
       "      <td>994</td>\n",
       "      <td>75</td>\n",
       "      <td>7.015903</td>\n",
       "    </tr>\n",
       "    <tr>\n",
       "      <td>married</td>\n",
       "      <td>10188</td>\n",
       "      <td>838</td>\n",
       "      <td>7.600218</td>\n",
       "    </tr>\n",
       "    <tr>\n",
       "      <td>unmarried</td>\n",
       "      <td>2248</td>\n",
       "      <td>252</td>\n",
       "      <td>10.080000</td>\n",
       "    </tr>\n",
       "    <tr>\n",
       "      <td>widow / widower</td>\n",
       "      <td>799</td>\n",
       "      <td>55</td>\n",
       "      <td>6.440281</td>\n",
       "    </tr>\n",
       "  </tbody>\n",
       "</table>\n",
       "</div>"
      ],
      "text/plain": [
       "defaulted              0    1  default_rate\n",
       "family_status                              \n",
       "civil partnership   3366  334      9.027027\n",
       "divorced             994   75      7.015903\n",
       "married            10188  838      7.600218\n",
       "unmarried           2248  252     10.080000\n",
       "widow / widower      799   55      6.440281"
      ]
     },
     "execution_count": 111,
     "metadata": {},
     "output_type": "execute_result"
    }
   ],
   "source": [
    "marital = df.pivot_table(index='family_status', values='education_id',columns='defaulted', aggfunc='count')\n",
    "marital['default_rate'] = marital[1] / (marital[0] + marital[1])\n",
    "marital['default_rate'] = marital['default_rate'] * 100\n",
    "marital"
   ]
  },
  {
   "cell_type": "code",
   "execution_count": 112,
   "metadata": {
    "scrolled": true
   },
   "outputs": [
    {
     "data": {
      "text/plain": [
       "<matplotlib.axes._subplots.AxesSubplot at 0x243c941f5c0>"
      ]
     },
     "execution_count": 112,
     "metadata": {},
     "output_type": "execute_result"
    },
    {
     "data": {
      "image/png": "[encoded data removed]",
      "text/plain": [
       "<Figure size 432x288 with 1 Axes>"
      ]
     },
     "metadata": {
      "needs_background": "light"
     },
     "output_type": "display_data"
    }
   ],
   "source": [
    "marital['default_rate'].plot(kind='bar')"
   ]
  },
  {
   "cell_type": "markdown",
   "metadata": {},
   "source": [
    "unmarried customers are much more likely to default in loans, followed by those in civil partnerships"
   ]
  },
  {
   "cell_type": "markdown",
   "metadata": {},
   "source": [
    "### Conclusion"
   ]
  },
  {
   "cell_type": "markdown",
   "metadata": {},
   "source": [
    "**yes!** There is a connection between marital status and loan default rate. Unmarried custmers are much more likely to default (50% more than married ones!)."
   ]
  },
  {
   "cell_type": "markdown",
   "metadata": {},
   "source": [
    "- Is there a relation between income level and repaying a loan on time?"
   ]
  },
  {
   "cell_type": "code",
   "execution_count": 113,
   "metadata": {},
   "outputs": [
    {
     "data": {
      "text/html": [
       "<div>\n",
       "<style scoped>\n",
       "    .dataframe tbody tr th:only-of-type {\n",
       "        vertical-align: middle;\n",
       "    }\n",
       "\n",
       "    .dataframe tbody tr th {\n",
       "        vertical-align: top;\n",
       "    }\n",
       "\n",
       "    .dataframe thead th {\n",
       "        text-align: right;\n",
       "    }\n",
       "</style>\n",
       "<table border=\"1\" class=\"dataframe\">\n",
       "  <thead>\n",
       "    <tr style=\"text-align: right;\">\n",
       "      <th>defaulted</th>\n",
       "      <th>0</th>\n",
       "      <th>1</th>\n",
       "      <th>default_rate</th>\n",
       "    </tr>\n",
       "    <tr>\n",
       "      <th>income_group</th>\n",
       "      <th></th>\n",
       "      <th></th>\n",
       "      <th></th>\n",
       "    </tr>\n",
       "  </thead>\n",
       "  <tbody>\n",
       "    <tr>\n",
       "      <td>10000 - 14999</td>\n",
       "      <td>2551</td>\n",
       "      <td>239</td>\n",
       "      <td>8.566308</td>\n",
       "    </tr>\n",
       "    <tr>\n",
       "      <td>15000 - 19999</td>\n",
       "      <td>3283</td>\n",
       "      <td>307</td>\n",
       "      <td>8.551532</td>\n",
       "    </tr>\n",
       "    <tr>\n",
       "      <td>20000 - 24999</td>\n",
       "      <td>3056</td>\n",
       "      <td>282</td>\n",
       "      <td>8.448173</td>\n",
       "    </tr>\n",
       "    <tr>\n",
       "      <td>25000 - 29999</td>\n",
       "      <td>2421</td>\n",
       "      <td>235</td>\n",
       "      <td>8.847892</td>\n",
       "    </tr>\n",
       "    <tr>\n",
       "      <td>30000 or more</td>\n",
       "      <td>5426</td>\n",
       "      <td>433</td>\n",
       "      <td>7.390340</td>\n",
       "    </tr>\n",
       "    <tr>\n",
       "      <td>Under 10000</td>\n",
       "      <td>858</td>\n",
       "      <td>58</td>\n",
       "      <td>6.331878</td>\n",
       "    </tr>\n",
       "  </tbody>\n",
       "</table>\n",
       "</div>"
      ],
      "text/plain": [
       "defaulted         0    1  default_rate\n",
       "income_group                          \n",
       "10000 - 14999  2551  239      8.566308\n",
       "15000 - 19999  3283  307      8.551532\n",
       "20000 - 24999  3056  282      8.448173\n",
       "25000 - 29999  2421  235      8.847892\n",
       "30000 or more  5426  433      7.390340\n",
       "Under 10000     858   58      6.331878"
      ]
     },
     "execution_count": 113,
     "metadata": {},
     "output_type": "execute_result"
    }
   ],
   "source": [
    "income = df.pivot_table(index='income_group', values='education_id',columns='defaulted', aggfunc='count')\n",
    "income['default_rate'] = income[1] / (income[0] + income[1])\n",
    "income['default_rate'] = income['default_rate'] * 100\n",
    "income"
   ]
  },
  {
   "cell_type": "code",
   "execution_count": 114,
   "metadata": {
    "scrolled": true
   },
   "outputs": [
    {
     "data": {
      "text/plain": [
       "<matplotlib.axes._subplots.AxesSubplot at 0x243c948fcc0>"
      ]
     },
     "execution_count": 114,
     "metadata": {},
     "output_type": "execute_result"
    },
    {
     "data": {
      "image/png": "[encoded data removed]",
      "text/plain": [
       "<Figure size 432x288 with 1 Axes>"
      ]
     },
     "metadata": {
      "needs_background": "light"
     },
     "output_type": "display_data"
    }
   ],
   "source": [
    "income['default_rate'].plot(kind='bar')"
   ]
  },
  {
   "cell_type": "markdown",
   "metadata": {},
   "source": [
    "Very surprisingly there doesn't seem to be a correlation between income and default rate. Knowing that the lowest income have the lowest default rate have the lowest income is shocking. What are they made up?"
   ]
  },
  {
   "cell_type": "code",
   "execution_count": 115,
   "metadata": {
    "scrolled": false
   },
   "outputs": [
    {
     "data": {
      "text/plain": [
       "married              0.620087\n",
       "civil partnership    0.173581\n",
       "unmarried            0.089520\n",
       "widow / widower      0.074236\n",
       "divorced             0.042576\n",
       "Name: family_status, dtype: float64"
      ]
     },
     "execution_count": 115,
     "metadata": {},
     "output_type": "execute_result"
    }
   ],
   "source": [
    "#what is the marital status of these low income customers? Are they married and hence might count from partner's income?\n",
    "df.loc[df['income_group'] == 'Under 10000']['family_status'].value_counts(normalize=True)"
   ]
  },
  {
   "cell_type": "code",
   "execution_count": 116,
   "metadata": {
    "scrolled": true
   },
   "outputs": [
    {
     "data": {
      "text/plain": [
       "married              0.575800\n",
       "civil partnership    0.193222\n",
       "unmarried            0.130555\n",
       "divorced             0.055825\n",
       "widow / widower      0.044598\n",
       "Name: family_status, dtype: float64"
      ]
     },
     "execution_count": 116,
     "metadata": {},
     "output_type": "execute_result"
    }
   ],
   "source": [
    "df['family_status'].value_counts(normalize=True)"
   ]
  },
  {
   "cell_type": "markdown",
   "metadata": {},
   "source": [
    "low income indivuals in this set are more likely to have a partner"
   ]
  },
  {
   "cell_type": "code",
   "execution_count": 117,
   "metadata": {
    "scrolled": true
   },
   "outputs": [
    {
     "data": {
      "text/plain": [
       "0    662\n",
       "1    254\n",
       "Name: children_bool, dtype: int64"
      ]
     },
     "execution_count": 117,
     "metadata": {},
     "output_type": "execute_result"
    }
   ],
   "source": [
    "df.loc[df['income_group'] == 'Under 10000']['children_bool'].value_counts()"
   ]
  },
  {
   "cell_type": "markdown",
   "metadata": {},
   "source": [
    "low income individuals are more likely to not have children"
   ]
  },
  {
   "cell_type": "code",
   "execution_count": null,
   "metadata": {},
   "outputs": [],
   "source": []
  },
  {
   "cell_type": "markdown",
   "metadata": {},
   "source": [
    "### Conclusion"
   ]
  },
  {
   "cell_type": "markdown",
   "metadata": {},
   "source": [
    "**No.** We can see that income level does not have a correlation with default rates. Interestingly, lowest income customers have the lowest default rate. A closer looks uncovers these customers have the lowest income but are more likely to be in a partnership (either marriage or civil partnership) and less likely to have children which might be better explanations for the lower trends."
   ]
  },
  {
   "cell_type": "markdown",
   "metadata": {},
   "source": [
    "- How do different loan purposes affect on-time repayment of the loan?"
   ]
  },
  {
   "cell_type": "code",
   "execution_count": 118,
   "metadata": {
    "scrolled": true
   },
   "outputs": [
    {
     "data": {
      "text/html": [
       "<div>\n",
       "<style scoped>\n",
       "    .dataframe tbody tr th:only-of-type {\n",
       "        vertical-align: middle;\n",
       "    }\n",
       "\n",
       "    .dataframe tbody tr th {\n",
       "        vertical-align: top;\n",
       "    }\n",
       "\n",
       "    .dataframe thead th {\n",
       "        text-align: right;\n",
       "    }\n",
       "</style>\n",
       "<table border=\"1\" class=\"dataframe\">\n",
       "  <thead>\n",
       "    <tr style=\"text-align: right;\">\n",
       "      <th>defaulted</th>\n",
       "      <th>0</th>\n",
       "      <th>1</th>\n",
       "      <th>default_rate</th>\n",
       "    </tr>\n",
       "    <tr>\n",
       "      <th>purpose_category</th>\n",
       "      <th></th>\n",
       "      <th></th>\n",
       "      <th></th>\n",
       "    </tr>\n",
       "  </thead>\n",
       "  <tbody>\n",
       "    <tr>\n",
       "      <td>car</td>\n",
       "      <td>3490</td>\n",
       "      <td>361</td>\n",
       "      <td>9.374189</td>\n",
       "    </tr>\n",
       "    <tr>\n",
       "      <td>education</td>\n",
       "      <td>3227</td>\n",
       "      <td>330</td>\n",
       "      <td>9.277481</td>\n",
       "    </tr>\n",
       "    <tr>\n",
       "      <td>real estate</td>\n",
       "      <td>8954</td>\n",
       "      <td>710</td>\n",
       "      <td>7.346854</td>\n",
       "    </tr>\n",
       "    <tr>\n",
       "      <td>wedding</td>\n",
       "      <td>1924</td>\n",
       "      <td>153</td>\n",
       "      <td>7.366394</td>\n",
       "    </tr>\n",
       "  </tbody>\n",
       "</table>\n",
       "</div>"
      ],
      "text/plain": [
       "defaulted            0    1  default_rate\n",
       "purpose_category                         \n",
       "car               3490  361      9.374189\n",
       "education         3227  330      9.277481\n",
       "real estate       8954  710      7.346854\n",
       "wedding           1924  153      7.366394"
      ]
     },
     "execution_count": 118,
     "metadata": {},
     "output_type": "execute_result"
    }
   ],
   "source": [
    "purpose = df.pivot_table(index='purpose_category', values='education_id',columns='defaulted', aggfunc='count')\n",
    "purpose['default_rate'] = purpose[1] / (purpose[0] + purpose[1])\n",
    "purpose['default_rate'] = purpose['default_rate'] * 100\n",
    "purpose"
   ]
  },
  {
   "cell_type": "code",
   "execution_count": 119,
   "metadata": {},
   "outputs": [
    {
     "data": {
      "text/plain": [
       "<matplotlib.axes._subplots.AxesSubplot at 0x243c9507160>"
      ]
     },
     "execution_count": 119,
     "metadata": {},
     "output_type": "execute_result"
    },
    {
     "data": {
      "image/png": "[encoded data removed]",
      "text/plain": [
       "<Figure size 432x288 with 1 Axes>"
      ]
     },
     "metadata": {
      "needs_background": "light"
     },
     "output_type": "display_data"
    }
   ],
   "source": [
    "purpose['default_rate'].plot(kind='bar')"
   ]
  },
  {
   "cell_type": "code",
   "execution_count": 120,
   "metadata": {
    "scrolled": false
   },
   "outputs": [
    {
     "data": {
      "text/html": [
       "<div>\n",
       "<style scoped>\n",
       "    .dataframe tbody tr th:only-of-type {\n",
       "        vertical-align: middle;\n",
       "    }\n",
       "\n",
       "    .dataframe tbody tr th {\n",
       "        vertical-align: top;\n",
       "    }\n",
       "\n",
       "    .dataframe thead th {\n",
       "        text-align: right;\n",
       "    }\n",
       "</style>\n",
       "<table border=\"1\" class=\"dataframe\">\n",
       "  <thead>\n",
       "    <tr style=\"text-align: right;\">\n",
       "      <th>defaulted</th>\n",
       "      <th>0</th>\n",
       "      <th>1</th>\n",
       "      <th>default_rate</th>\n",
       "    </tr>\n",
       "    <tr>\n",
       "      <th>education</th>\n",
       "      <th></th>\n",
       "      <th></th>\n",
       "      <th></th>\n",
       "    </tr>\n",
       "  </thead>\n",
       "  <tbody>\n",
       "    <tr>\n",
       "      <td>bachelor's degree</td>\n",
       "      <td>4413.0</td>\n",
       "      <td>251.0</td>\n",
       "      <td>5.381647</td>\n",
       "    </tr>\n",
       "    <tr>\n",
       "      <td>graduate degree</td>\n",
       "      <td>6.0</td>\n",
       "      <td>NaN</td>\n",
       "      <td>NaN</td>\n",
       "    </tr>\n",
       "    <tr>\n",
       "      <td>primary education</td>\n",
       "      <td>233.0</td>\n",
       "      <td>28.0</td>\n",
       "      <td>10.727969</td>\n",
       "    </tr>\n",
       "    <tr>\n",
       "      <td>secondary education</td>\n",
       "      <td>12339.0</td>\n",
       "      <td>1210.0</td>\n",
       "      <td>8.930548</td>\n",
       "    </tr>\n",
       "    <tr>\n",
       "      <td>some college</td>\n",
       "      <td>604.0</td>\n",
       "      <td>65.0</td>\n",
       "      <td>9.715994</td>\n",
       "    </tr>\n",
       "  </tbody>\n",
       "</table>\n",
       "</div>"
      ],
      "text/plain": [
       "defaulted                  0       1  default_rate\n",
       "education                                         \n",
       "bachelor's degree     4413.0   251.0      5.381647\n",
       "graduate degree          6.0     NaN           NaN\n",
       "primary education      233.0    28.0     10.727969\n",
       "secondary education  12339.0  1210.0      8.930548\n",
       "some college           604.0    65.0      9.715994"
      ]
     },
     "execution_count": 120,
     "metadata": {},
     "output_type": "execute_result"
    }
   ],
   "source": [
    "#let's take a closer look to make an observation on education more well rounded\n",
    "education = df.pivot_table(index='education', values='education_id',columns='defaulted', aggfunc='count')\n",
    "education['default_rate'] = education[1] / (education[0] + education[1])\n",
    "education['default_rate'] = education['default_rate'] * 100\n",
    "education"
   ]
  },
  {
   "cell_type": "code",
   "execution_count": 121,
   "metadata": {},
   "outputs": [
    {
     "data": {
      "text/plain": [
       "<matplotlib.axes._subplots.AxesSubplot at 0x243c955ef98>"
      ]
     },
     "execution_count": 121,
     "metadata": {},
     "output_type": "execute_result"
    },
    {
     "data": {
      "image/png": "[encoded data removed]",
      "text/plain": [
       "<Figure size 432x288 with 1 Axes>"
      ]
     },
     "metadata": {
      "needs_background": "light"
     },
     "output_type": "display_data"
    }
   ],
   "source": [
    "age = df.pivot_table(index='age_group', values='education_id',columns='defaulted', aggfunc='count')\n",
    "age['default_rate'] = age[1] / (age[0] + age[1])\n",
    "age['default_rate'] = age['default_rate'] * 100\n",
    "age['default_rate'].plot(kind='bar')"
   ]
  },
  {
   "cell_type": "markdown",
   "metadata": {},
   "source": [
    "### Conclusion"
   ]
  },
  {
   "cell_type": "markdown",
   "metadata": {},
   "source": [
    "**Yes** Customers that are using the loan for cars or education are about 2% more likely to default than customers that use it for wedding or real estate. This is logical. A loan is the most likely smaller loan so if you need a loan for a car you more likely less financially stable. \n",
    "\n",
    "The lower the education level, the more likely that you are pursiung higher education. We can see that as education level increases, default rate decreases with customers with only primary education twice as likely to default than those with a bachelor's. We also know that younger customers which are potentially more likely to get education are more likely to defaut. This explains why customers looking for education loans default more."
   ]
  },
  {
   "cell_type": "code",
   "execution_count": 122,
   "metadata": {
    "scrolled": true
   },
   "outputs": [
    {
     "data": {
      "text/plain": [
       "<matplotlib.axes._subplots.AxesSubplot at 0x243c95c6eb8>"
      ]
     },
     "execution_count": 122,
     "metadata": {},
     "output_type": "execute_result"
    },
    {
     "data": {
      "image/png": "[encoded data removed]",
      "text/plain": [
       "<Figure size 432x288 with 1 Axes>"
      ]
     },
     "metadata": {
      "needs_background": "light"
     },
     "output_type": "display_data"
    }
   ],
   "source": [
    "gender = df.pivot_table(index='gender', values='education_id',columns='defaulted', aggfunc='count')\n",
    "gender['default_rate'] = gender[1] / (gender[0] + gender[1])\n",
    "gender['default_rate'] = gender['default_rate'] * 100\n",
    "gender['default_rate'].plot(kind='bar')"
   ]
  },
  {
   "cell_type": "markdown",
   "metadata": {},
   "source": [
    "males are much more likely to default than females"
   ]
  },
  {
   "cell_type": "code",
   "execution_count": 123,
   "metadata": {},
   "outputs": [
    {
     "data": {
      "text/plain": [
       "<matplotlib.axes._subplots.AxesSubplot at 0x243c96401d0>"
      ]
     },
     "execution_count": 123,
     "metadata": {},
     "output_type": "execute_result"
    },
    {
     "data": {
      "image/png": "[encoded data removed]",
      "text/plain": [
       "<Figure size 432x288 with 1 Axes>"
      ]
     },
     "metadata": {
      "needs_background": "light"
     },
     "output_type": "display_data"
    }
   ],
   "source": [
    "income_type = df.pivot_table(index='income_type', values='education_id',columns='defaulted', aggfunc='count')\n",
    "income_type['default_rate'] = income_type[1] / (income_type[0] + income_type[1])\n",
    "income_type['default_rate'] = income_type['default_rate'] * 100\n",
    "income_type['default_rate'].plot(kind='bar')"
   ]
  },
  {
   "cell_type": "markdown",
   "metadata": {},
   "source": [
    "As expected, unemployed customers are MUCH more likely to default"
   ]
  },
  {
   "cell_type": "markdown",
   "metadata": {},
   "source": [
    "### Step 4. General conclusion"
   ]
  },
  {
   "cell_type": "markdown",
   "metadata": {},
   "source": [
    "The goal for this project was to make recommendations and insights to consider as the bank builds a credit score to assess potential customers. \n",
    "\n",
    "After my analysis, the bank should consider the following customer characteristics:\n",
    "* if the customer has kids\n",
    "* purpose of the loan\n",
    "* age group\n",
    "* gender\n",
    "* marital status\n",
    "* income type\n",
    "\n",
    "These are the specific attributes that were found to correlate with higher default rates:\n",
    "* Having 1-2 kids\n",
    "* Taking out a loan for a car or education\n",
    "* Being unmarried or in a civil partnership\n",
    "* Being under 35 years old\n",
    "* Being a male\n",
    "* Being unemployed\n",
    "\n",
    "You should not consider income level (total_income) as you determine a customer's credit score as there was no correlation between income and default rates."
   ]
  },
  {
   "cell_type": "markdown",
   "metadata": {},
   "source": [
    "### Project Readiness Checklist\n",
    "\n",
    "Put 'x' in the completed points. Then press Shift + Enter."
   ]
  },
  {
   "cell_type": "markdown",
   "metadata": {},
   "source": [
    "- [x]  file open;\n",
    "- [x]  file examined;\n",
    "- [x]  missing values defined;\n",
    "- [x]  missing values are filled;\n",
    "- [x]  an explanation of which missing value types were detected;\n",
    "- [x]  explanation for the possible causes of missing values;\n",
    "- [x]  an explanation of how the blanks are filled;\n",
    "- [x]  replaced the real data type with an integer;\n",
    "- [x]  an explanation of which method is used to change the data type and why;\n",
    "- [x]  duplicates deleted;\n",
    "- [x]  an explanation of which method is used to find and remove duplicates;\n",
    "- [x]  description of the possible reasons for the appearance of duplicates in the data;\n",
    "- [x]  data is categorized;\n",
    "- [x]  an explanation of the principle of data categorization;\n",
    "- [x]  an answer to the question \"Is there a relation between having kids and repaying a loan on time?\";\n",
    "- [x]  an answer to the question \" Is there a relation between marital status and repaying a loan on time?\";\n",
    "- [x]   an answer to the question \" Is there a relation between income level and repaying a loan on time?\";\n",
    "- [x]  an answer to the question \" How do different loan purposes affect on-time repayment of the loan?\"\n",
    "- [x]  conclusions are present on each stage;\n",
    "- [x]  a general conclusion is made."
   ]
  }
 ],
 "metadata": {
  "kernelspec": {
   "display_name": "Python 3",
   "language": "python",
   "name": "python3"
  },
  "language_info": {
   "codemirror_mode": {
    "name": "ipython",
    "version": 3
   },
   "file_extension": ".py",
   "mimetype": "text/x-python",
   "name": "python",
   "nbconvert_exporter": "python",
   "pygments_lexer": "ipython3",
   "version": "3.7.3"
  }
 },
 "nbformat": 4,
 "nbformat_minor": 2
}
